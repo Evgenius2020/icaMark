{
 "cells": [
  {
   "cell_type": "code",
   "execution_count": 1,
   "metadata": {
    "collapsed": true
   },
   "outputs": [],
   "source": [
    "import cv2\n",
    "import os\n",
    "import sys\n",
    "import numpy as np\n",
    "\n",
    "import matplotlib.pyplot as plt\n",
    "import seaborn as sn\n",
    "%matplotlib inline\n",
    "\n",
    "from skimage.transform import resize\n",
    "import os\n",
    "from os.path import join\n",
    "from sklearn.model_selection import train_test_split\n",
    "from sklearn.utils import resample"
   ]
  },
  {
   "cell_type": "code",
   "execution_count": 2,
   "metadata": {},
   "outputs": [
    {
     "name": "stderr",
     "output_type": "stream",
     "text": [
      "Using TensorFlow backend.\n"
     ]
    }
   ],
   "source": [
    "from keras.models import Sequential,Model\n",
    "from keras.layers.core import Dense, Dropout, Activation, Flatten, Reshape\n",
    "from keras.optimizers import SGD, RMSprop, Adam\n",
    "from keras.utils import np_utils\n",
    "from keras.regularizers import l2\n",
    "from keras.layers.convolutional import Convolution2D, MaxPooling2D, ZeroPadding2D, AveragePooling2D\n",
    "from keras.callbacks import EarlyStopping\n",
    "from keras.preprocessing.image import ImageDataGenerator\n",
    "from keras.layers.normalization import BatchNormalization\n",
    "from keras.utils import to_categorical\n",
    "from keras.preprocessing.image import ImageDataGenerator\n",
    "from keras.layers import Conv2D"
   ]
  },
  {
   "cell_type": "code",
   "execution_count": 3,
   "metadata": {
    "code_folding": [
     0
    ],
    "collapsed": true
   },
   "outputs": [],
   "source": [
    "def plot_history(history):\n",
    "    f, (ax1, ax2) = plt.subplots(1, 2, sharey=True, figsize=(20,7))\n",
    "    ax1.plot(history.history['acc'])\n",
    "    ax1.plot(history.history['val_acc'])\n",
    "    ax1.set_title('model accuracy')\n",
    "    ax1.set_ylabel('accuracy')\n",
    "    ax1.set_xlabel('epoch')\n",
    "    ax1.legend(['train', 'test'], loc='upper left')\n",
    "    \n",
    "    \n",
    "    ax2.plot(history.history['loss'])\n",
    "    ax2.plot(history.history['val_loss'])\n",
    "    ax2.set_title('model loss')\n",
    "    ax2.set_ylabel('loss')\n",
    "    ax2.set_xlabel('epoch')\n",
    "    ax2.legend(['train', 'test'], loc='upper left')"
   ]
  },
  {
   "cell_type": "code",
   "execution_count": 4,
   "metadata": {
    "collapsed": true
   },
   "outputs": [],
   "source": [
    "#(545, 535, 3) исходное\n",
    "IMG_SIZE = (197,197,3) #REznet FIGSIZE\n",
    "#IMG_SIZE = (224,224,3)\n",
    "# IMG_SIZE = (125,125,3)"
   ]
  },
  {
   "cell_type": "code",
   "execution_count": 5,
   "metadata": {
    "collapsed": true
   },
   "outputs": [],
   "source": [
    "# img = cv2.imread('./data/all_ica_img/'+file_names[117])\n",
    "# plt.imshow(img)\n",
    "# plt.show()\n",
    "# plt.imshow(img[25:570, 185:720])"
   ]
  },
  {
   "cell_type": "code",
   "execution_count": 6,
   "metadata": {
    "collapsed": true
   },
   "outputs": [],
   "source": [
    "# img = cv2.imread('./data/all_ica_img/'+file_names[0])\n",
    "# images = [cv2.imread('./data/all_ica_img/'+file_name)\n",
    "#                         for file_name in file_names]"
   ]
  },
  {
   "cell_type": "code",
   "execution_count": 7,
   "metadata": {},
   "outputs": [],
   "source": [
    "file_names = sorted(os.listdir('./data/all_ica_img/'))[:]\n",
    "\n",
    "X = np.array([resize(cv2.imread(join('./data/all_ica_img/', file_name))[25:570, 185:720], IMG_SIZE, mode='reflect')\n",
    "              for file_name in file_names[:]]).astype(np.float32)\n",
    "y = np.array([file_name.split('.')[0].split('_')[-1] for file_name in file_names[:]]).astype(int)\n",
    "\n"
   ]
  },
  {
   "cell_type": "code",
   "execution_count": 8,
   "metadata": {},
   "outputs": [
    {
     "name": "stdout",
     "output_type": "stream",
     "text": [
      "(array([0, 1]), array([1700, 5541], dtype=int64))\n"
     ]
    }
   ],
   "source": [
    "print (np.unique(y, return_counts=True))"
   ]
  },
  {
   "cell_type": "code",
   "execution_count": 8,
   "metadata": {
    "collapsed": true
   },
   "outputs": [],
   "source": [
    "X_majority = X[y==1]\n",
    "X_minority = X[y==0]\n",
    "X_majority_downsampled = resample(X_majority, \n",
    "                                 replace=False,    # sample without replacement\n",
    "                                 n_samples=1700,     # to match minority class\n",
    "                                 random_state=123)\n",
    "X = np.concatenate((X_minority,X_majority_downsampled),axis=0)\n",
    "y = np.zeros(1700*2)\n",
    "y[1700:]=1\n",
    "del X_majority\n",
    "del X_minority\n",
    "del X_majority_downsampled"
   ]
  },
  {
   "cell_type": "code",
   "execution_count": 9,
   "metadata": {
    "collapsed": true
   },
   "outputs": [],
   "source": [
    "y = to_categorical(y)\n",
    "\n",
    "X_train, X_test, y_train, y_test = train_test_split(X, y, test_size=0.3, random_state=42)"
   ]
  },
  {
   "cell_type": "code",
   "execution_count": null,
   "metadata": {
    "collapsed": true
   },
   "outputs": [],
   "source": []
  },
  {
   "cell_type": "code",
   "execution_count": 11,
   "metadata": {
    "collapsed": true
   },
   "outputs": [],
   "source": [
    "# path = './data/train_test/train/'\n",
    "# file_names = sorted(os.listdir(path))\n",
    "# X_train = [resize(cv2.imread(join(path, file_name))[25:570, 185:720], IMG_SIZE, mode='reflect')\n",
    "#               for file_name in file_names]\n",
    "# y_train = [file_name.split('.')[0].split('_')[-1] for file_name in file_names]\n",
    "\n",
    "# X_train = np.array(X_train).astype(np.float32)\n",
    "# y_train = np.array(y_train).astype(int)\n",
    "# y_train = to_categorical(y_train)\n",
    "\n",
    "\n",
    "\n",
    "# path = './data/train_test/test/'\n",
    "# file_names = sorted(os.listdir(path))\n",
    "# X_test = [resize(cv2.imread(join(path, file_name))[25:570, 185:720], IMG_SIZE, mode='reflect')\n",
    "#               for file_name in file_names]\n",
    "# y_test = [file_name.split('.')[0].split('_')[-1] for file_name in file_names]\n",
    "\n",
    "# X_test = np.array(X_test).astype(np.float32)\n",
    "# X_test = np.array(X_test).astype(int)\n",
    "# y_test = to_categorical(y_test)"
   ]
  },
  {
   "cell_type": "markdown",
   "metadata": {},
   "source": [
    "### аугментация"
   ]
  },
  {
   "cell_type": "code",
   "execution_count": 12,
   "metadata": {
    "collapsed": true
   },
   "outputs": [],
   "source": [
    "# datagen = ImageDataGenerator(rotation_range=10,\n",
    "#                                      width_shift_range=0.1,\n",
    "#                                      height_shift_range=0.1,\n",
    "#                                      horizontal_flip=True)\n",
    "\n",
    "# model.fit_generator(datagen.flow(X_train,y_train,batch_size=128), steps_per_epoch=len(X_train) / 128,\n",
    "#                     epochs=20,\n",
    "#                     verbose=1, \n",
    "#                     validation_data=(X_test, y_test))"
   ]
  },
  {
   "cell_type": "code",
   "execution_count": null,
   "metadata": {
    "collapsed": true
   },
   "outputs": [],
   "source": []
  },
  {
   "cell_type": "code",
   "execution_count": 13,
   "metadata": {
    "code_folding": [
     2
    ],
    "collapsed": true
   },
   "outputs": [],
   "source": [
    "from keras.applications.xception import Xception\n",
    "\n",
    "def get_Xception():\n",
    "    basemodel = Xception(include_top=False, input_shape=IMG_SIZE, pooling='avg')\n",
    "    base_out = basemodel.output\n",
    "\n",
    "    base_out = Dense(2048, activation='elu',\n",
    "                           kernel_initializer='glorot_normal',\n",
    "                           kernel_regularizer=l2(1e-3))(base_out)\n",
    "\n",
    "    base_out = Dropout(0.5)(base_out)\n",
    "\n",
    "    base_out = Dense(1024, activation='relu',\n",
    "                           kernel_initializer='glorot_normal',\n",
    "                           kernel_regularizer=l2(1e-3))(base_out)\n",
    "\n",
    "    predictions = Dense(2, activation='softmax',\n",
    "                              kernel_initializer='glorot_normal',\n",
    "                              kernel_regularizer=l2(1e-3))(base_out)\n",
    "\n",
    "    model = Model(inputs=basemodel.input, outputs=predictions)\n",
    "    trainable_border = 107  # 141\n",
    "    for layer in model.layers[:trainable_border]:\n",
    "            layer.trainable = False\n",
    "    for layer in model.layers[trainable_border:]:\n",
    "            layer.trainable = True\n",
    "\n",
    "    model.compile(optimizer=Adam(lr=1e-3), #, decay=1e-2\n",
    "                      loss='categorical_crossentropy',\n",
    "                      metrics=['accuracy'])        \n",
    "    return model"
   ]
  },
  {
   "cell_type": "code",
   "execution_count": 14,
   "metadata": {},
   "outputs": [
    {
     "name": "stdout",
     "output_type": "stream",
     "text": [
      "Train on 2380 samples, validate on 1020 samples\n",
      "Epoch 1/150\n",
      "2380/2380 [==============================] - 42s 18ms/step - loss: 2.5293 - acc: 0.5101 - val_loss: 1.6326 - val_acc: 0.4863\n",
      "Epoch 2/150\n",
      "2380/2380 [==============================] - 33s 14ms/step - loss: 1.2322 - acc: 0.4954 - val_loss: 0.9558 - val_acc: 0.4863\n",
      "Epoch 3/150\n",
      "2380/2380 [==============================] - 33s 14ms/step - loss: 0.8542 - acc: 0.5059 - val_loss: 0.7807 - val_acc: 0.4863\n",
      "Epoch 4/150\n",
      "2380/2380 [==============================] - 33s 14ms/step - loss: 0.7502 - acc: 0.4857 - val_loss: 0.7272 - val_acc: 0.4863\n",
      "Epoch 5/150\n",
      "2380/2380 [==============================] - 33s 14ms/step - loss: 0.7169 - acc: 0.4803 - val_loss: 0.7086 - val_acc: 0.4863\n",
      "Epoch 6/150\n",
      "2380/2380 [==============================] - 33s 14ms/step - loss: 0.7044 - acc: 0.4945 - val_loss: 0.7011 - val_acc: 0.4863\n",
      "Epoch 7/150\n",
      "2380/2380 [==============================] - 33s 14ms/step - loss: 0.6993 - acc: 0.5059 - val_loss: 0.6979 - val_acc: 0.4863\n",
      "Epoch 8/150\n",
      "2380/2380 [==============================] - 33s 14ms/step - loss: 0.6968 - acc: 0.5059 - val_loss: 0.6962 - val_acc: 0.4863\n",
      "Epoch 9/150\n",
      "2380/2380 [==============================] - 33s 14ms/step - loss: 0.6956 - acc: 0.5059 - val_loss: 0.6954 - val_acc: 0.4863\n",
      "Epoch 10/150\n",
      "2380/2380 [==============================] - 34s 14ms/step - loss: 0.6949 - acc: 0.5059 - val_loss: 0.6949 - val_acc: 0.4863\n",
      "Epoch 11/150\n",
      "2380/2380 [==============================] - 33s 14ms/step - loss: 0.6945 - acc: 0.5059 - val_loss: 0.6946 - val_acc: 0.4863\n",
      "Epoch 12/150\n",
      "2380/2380 [==============================] - 33s 14ms/step - loss: 0.6943 - acc: 0.5059 - val_loss: 0.6945 - val_acc: 0.4863\n",
      "Epoch 13/150\n",
      "2380/2380 [==============================] - 33s 14ms/step - loss: 0.6940 - acc: 0.5059 - val_loss: 0.6944 - val_acc: 0.4863\n",
      "Epoch 14/150\n",
      "2380/2380 [==============================] - 33s 14ms/step - loss: 0.6940 - acc: 0.5059 - val_loss: 0.6944 - val_acc: 0.4863\n",
      "Epoch 15/150\n",
      "2380/2380 [==============================] - 33s 14ms/step - loss: 0.6938 - acc: 0.5059 - val_loss: 0.6942 - val_acc: 0.4863\n",
      "Epoch 16/150\n",
      "2380/2380 [==============================] - 33s 14ms/step - loss: 0.6937 - acc: 0.5059 - val_loss: 0.6942 - val_acc: 0.4863\n",
      "Epoch 17/150\n",
      "2380/2380 [==============================] - 33s 14ms/step - loss: 0.6936 - acc: 0.5059 - val_loss: 0.6940 - val_acc: 0.4863\n",
      "Epoch 18/150\n",
      "2380/2380 [==============================] - 33s 14ms/step - loss: 0.6936 - acc: 0.5059 - val_loss: 0.6941 - val_acc: 0.4863\n",
      "Epoch 19/150\n",
      "2380/2380 [==============================] - 33s 14ms/step - loss: 0.6935 - acc: 0.5059 - val_loss: 0.6939 - val_acc: 0.4863\n",
      "Epoch 20/150\n",
      "2380/2380 [==============================] - 33s 14ms/step - loss: 0.6935 - acc: 0.5059 - val_loss: 0.6938 - val_acc: 0.4863\n",
      "Epoch 21/150\n",
      "2380/2380 [==============================] - 33s 14ms/step - loss: 0.6935 - acc: 0.5059 - val_loss: 0.6937 - val_acc: 0.4863\n",
      "Epoch 22/150\n",
      "2380/2380 [==============================] - 33s 14ms/step - loss: 0.6934 - acc: 0.5059 - val_loss: 0.6936 - val_acc: 0.4863\n",
      "Epoch 23/150\n",
      "2380/2380 [==============================] - 33s 14ms/step - loss: 0.6934 - acc: 0.5059 - val_loss: 0.6938 - val_acc: 0.4863\n",
      "Epoch 24/150\n",
      "2380/2380 [==============================] - 33s 14ms/step - loss: 0.6934 - acc: 0.5059 - val_loss: 0.6937 - val_acc: 0.4863\n",
      "Epoch 25/150\n",
      "2380/2380 [==============================] - 33s 14ms/step - loss: 0.6933 - acc: 0.5059 - val_loss: 0.6936 - val_acc: 0.4863\n",
      "Epoch 26/150\n",
      "2380/2380 [==============================] - 33s 14ms/step - loss: 0.6933 - acc: 0.5059 - val_loss: 0.6937 - val_acc: 0.4863\n",
      "Epoch 27/150\n",
      "2380/2380 [==============================] - 33s 14ms/step - loss: 0.6933 - acc: 0.5059 - val_loss: 0.6937 - val_acc: 0.4863\n",
      "Epoch 28/150\n",
      "2380/2380 [==============================] - 33s 14ms/step - loss: 0.6933 - acc: 0.5059 - val_loss: 0.6936 - val_acc: 0.4863\n",
      "Epoch 29/150\n",
      "2380/2380 [==============================] - 33s 14ms/step - loss: 0.6932 - acc: 0.5059 - val_loss: 0.6937 - val_acc: 0.4863\n",
      "Epoch 30/150\n",
      "2380/2380 [==============================] - 33s 14ms/step - loss: 0.6932 - acc: 0.5059 - val_loss: 0.6937 - val_acc: 0.4863\n",
      "Epoch 31/150\n",
      "2380/2380 [==============================] - 33s 14ms/step - loss: 0.6932 - acc: 0.5059 - val_loss: 0.6937 - val_acc: 0.4863\n",
      "Epoch 32/150\n",
      "2380/2380 [==============================] - 33s 14ms/step - loss: 0.6932 - acc: 0.5059 - val_loss: 0.6936 - val_acc: 0.4863\n",
      "Epoch 33/150\n",
      "2380/2380 [==============================] - 33s 14ms/step - loss: 0.6932 - acc: 0.5059 - val_loss: 0.6935 - val_acc: 0.4863\n",
      "Epoch 34/150\n",
      "2380/2380 [==============================] - 33s 14ms/step - loss: 0.6933 - acc: 0.5059 - val_loss: 0.6938 - val_acc: 0.4863\n",
      "Epoch 35/150\n",
      "2380/2380 [==============================] - 33s 14ms/step - loss: 0.6932 - acc: 0.5059 - val_loss: 0.6937 - val_acc: 0.4863\n",
      "Epoch 36/150\n",
      "2380/2380 [==============================] - 33s 14ms/step - loss: 0.6932 - acc: 0.5059 - val_loss: 0.6937 - val_acc: 0.4863\n",
      "Epoch 37/150\n",
      "2380/2380 [==============================] - 33s 14ms/step - loss: 0.6932 - acc: 0.5059 - val_loss: 0.6935 - val_acc: 0.4863\n",
      "Epoch 38/150\n",
      "2380/2380 [==============================] - 33s 14ms/step - loss: 0.6932 - acc: 0.5059 - val_loss: 0.6936 - val_acc: 0.4863\n",
      "Epoch 39/150\n",
      "2380/2380 [==============================] - 33s 14ms/step - loss: 0.6932 - acc: 0.5059 - val_loss: 0.6937 - val_acc: 0.4863\n",
      "Epoch 40/150\n",
      "2380/2380 [==============================] - 33s 14ms/step - loss: 0.6931 - acc: 0.5059 - val_loss: 0.6935 - val_acc: 0.4863\n",
      "Epoch 41/150\n",
      "2380/2380 [==============================] - 33s 14ms/step - loss: 0.6932 - acc: 0.5059 - val_loss: 0.6937 - val_acc: 0.4863\n",
      "Epoch 42/150\n",
      "2380/2380 [==============================] - 33s 14ms/step - loss: 0.6931 - acc: 0.5059 - val_loss: 0.6936 - val_acc: 0.4863\n",
      "Epoch 43/150\n",
      "2380/2380 [==============================] - 33s 14ms/step - loss: 0.6931 - acc: 0.5059 - val_loss: 0.6935 - val_acc: 0.4863\n",
      "Epoch 44/150\n",
      "2380/2380 [==============================] - 33s 14ms/step - loss: 0.6932 - acc: 0.5059 - val_loss: 0.6936 - val_acc: 0.4863\n",
      "Epoch 45/150\n",
      "2380/2380 [==============================] - 33s 14ms/step - loss: 0.6931 - acc: 0.5059 - val_loss: 0.6935 - val_acc: 0.4863\n",
      "Epoch 46/150\n",
      "2380/2380 [==============================] - 33s 14ms/step - loss: 0.6931 - acc: 0.5059 - val_loss: 0.6936 - val_acc: 0.4863\n",
      "Epoch 47/150\n",
      "2380/2380 [==============================] - 33s 14ms/step - loss: 0.6932 - acc: 0.5059 - val_loss: 0.6936 - val_acc: 0.4863\n",
      "Epoch 48/150\n",
      "2380/2380 [==============================] - 33s 14ms/step - loss: 0.6931 - acc: 0.5059 - val_loss: 0.6936 - val_acc: 0.4863\n",
      "Epoch 49/150\n",
      "2380/2380 [==============================] - 33s 14ms/step - loss: 0.6931 - acc: 0.5059 - val_loss: 0.6937 - val_acc: 0.4863\n",
      "Epoch 50/150\n",
      "2380/2380 [==============================] - 33s 14ms/step - loss: 0.6931 - acc: 0.5059 - val_loss: 0.6936 - val_acc: 0.4863\n",
      "Epoch 51/150\n",
      "2380/2380 [==============================] - 33s 14ms/step - loss: 0.6931 - acc: 0.5059 - val_loss: 0.6936 - val_acc: 0.4863\n",
      "Epoch 52/150\n",
      "2380/2380 [==============================] - 33s 14ms/step - loss: 0.6931 - acc: 0.5059 - val_loss: 0.6935 - val_acc: 0.4863\n",
      "Epoch 53/150\n",
      "2380/2380 [==============================] - 33s 14ms/step - loss: 0.6931 - acc: 0.5059 - val_loss: 0.6937 - val_acc: 0.4863\n",
      "Epoch 54/150\n",
      "2380/2380 [==============================] - 33s 14ms/step - loss: 0.6932 - acc: 0.5059 - val_loss: 0.6938 - val_acc: 0.4863\n",
      "Epoch 55/150\n",
      "2380/2380 [==============================] - 33s 14ms/step - loss: 0.6931 - acc: 0.5059 - val_loss: 0.6936 - val_acc: 0.4863\n",
      "Epoch 56/150\n",
      "2380/2380 [==============================] - 33s 14ms/step - loss: 0.6931 - acc: 0.5059 - val_loss: 0.6936 - val_acc: 0.4863\n",
      "Epoch 57/150\n",
      "2380/2380 [==============================] - 33s 14ms/step - loss: 0.6931 - acc: 0.5059 - val_loss: 0.6936 - val_acc: 0.4863\n",
      "Epoch 58/150\n",
      "2380/2380 [==============================] - 33s 14ms/step - loss: 0.6931 - acc: 0.5059 - val_loss: 0.6936 - val_acc: 0.4863\n",
      "Epoch 59/150\n",
      "2380/2380 [==============================] - 33s 14ms/step - loss: 0.6931 - acc: 0.5059 - val_loss: 0.6937 - val_acc: 0.4863\n",
      "Epoch 60/150\n"
     ]
    },
    {
     "name": "stdout",
     "output_type": "stream",
     "text": [
      "2380/2380 [==============================] - 33s 14ms/step - loss: 0.6931 - acc: 0.5059 - val_loss: 0.6937 - val_acc: 0.4863\n",
      "Epoch 61/150\n",
      "2380/2380 [==============================] - 33s 14ms/step - loss: 0.6932 - acc: 0.5059 - val_loss: 0.6937 - val_acc: 0.4863\n",
      "Epoch 62/150\n",
      "2380/2380 [==============================] - 33s 14ms/step - loss: 0.6932 - acc: 0.5059 - val_loss: 0.6937 - val_acc: 0.4863\n",
      "Epoch 63/150\n",
      "2380/2380 [==============================] - 33s 14ms/step - loss: 0.6931 - acc: 0.5059 - val_loss: 0.6935 - val_acc: 0.4863\n",
      "Epoch 64/150\n",
      "2380/2380 [==============================] - 33s 14ms/step - loss: 0.6931 - acc: 0.5059 - val_loss: 0.6936 - val_acc: 0.4863\n",
      "Epoch 65/150\n",
      "2380/2380 [==============================] - 33s 14ms/step - loss: 0.6932 - acc: 0.5059 - val_loss: 0.6936 - val_acc: 0.4863\n",
      "Epoch 66/150\n",
      "2380/2380 [==============================] - 33s 14ms/step - loss: 0.6931 - acc: 0.5059 - val_loss: 0.6936 - val_acc: 0.4863\n",
      "Epoch 67/150\n",
      "2380/2380 [==============================] - 33s 14ms/step - loss: 0.6931 - acc: 0.5059 - val_loss: 0.6936 - val_acc: 0.4863\n",
      "Epoch 68/150\n",
      "2380/2380 [==============================] - 33s 14ms/step - loss: 0.6931 - acc: 0.5059 - val_loss: 0.6937 - val_acc: 0.4863\n",
      "Epoch 69/150\n",
      "2380/2380 [==============================] - 33s 14ms/step - loss: 0.6931 - acc: 0.5059 - val_loss: 0.6935 - val_acc: 0.4863\n",
      "Epoch 70/150\n",
      "2380/2380 [==============================] - 33s 14ms/step - loss: 0.6931 - acc: 0.5059 - val_loss: 0.6936 - val_acc: 0.4863\n",
      "Epoch 71/150\n",
      "2380/2380 [==============================] - 33s 14ms/step - loss: 0.6931 - acc: 0.5059 - val_loss: 0.6936 - val_acc: 0.4863\n",
      "Epoch 72/150\n",
      "2380/2380 [==============================] - 33s 14ms/step - loss: 0.6931 - acc: 0.5059 - val_loss: 0.6934 - val_acc: 0.4863\n",
      "Epoch 73/150\n",
      "2380/2380 [==============================] - 33s 14ms/step - loss: 0.6932 - acc: 0.5059 - val_loss: 0.6937 - val_acc: 0.4863\n",
      "Epoch 74/150\n",
      "2380/2380 [==============================] - 33s 14ms/step - loss: 0.6931 - acc: 0.5059 - val_loss: 0.6936 - val_acc: 0.4863\n",
      "Epoch 75/150\n",
      "2380/2380 [==============================] - 33s 14ms/step - loss: 0.6931 - acc: 0.5059 - val_loss: 0.6937 - val_acc: 0.4863\n",
      "Epoch 76/150\n",
      "2380/2380 [==============================] - 33s 14ms/step - loss: 0.6931 - acc: 0.5059 - val_loss: 0.6936 - val_acc: 0.4863\n",
      "Epoch 77/150\n",
      "2380/2380 [==============================] - 33s 14ms/step - loss: 0.6931 - acc: 0.5059 - val_loss: 0.6937 - val_acc: 0.4863\n",
      "Epoch 78/150\n",
      "2380/2380 [==============================] - 33s 14ms/step - loss: 0.6931 - acc: 0.5059 - val_loss: 0.6937 - val_acc: 0.4863\n",
      "Epoch 79/150\n",
      "2380/2380 [==============================] - 33s 14ms/step - loss: 0.6931 - acc: 0.5059 - val_loss: 0.6937 - val_acc: 0.4863\n",
      "Epoch 80/150\n",
      "2380/2380 [==============================] - 33s 14ms/step - loss: 0.6931 - acc: 0.5059 - val_loss: 0.6936 - val_acc: 0.4863\n",
      "Epoch 81/150\n",
      "2380/2380 [==============================] - 33s 14ms/step - loss: 0.6931 - acc: 0.5059 - val_loss: 0.6935 - val_acc: 0.4863\n",
      "Epoch 82/150\n",
      "2380/2380 [==============================] - 33s 14ms/step - loss: 0.6931 - acc: 0.5059 - val_loss: 0.6934 - val_acc: 0.4863\n",
      "Epoch 83/150\n",
      "2380/2380 [==============================] - 33s 14ms/step - loss: 0.6931 - acc: 0.5059 - val_loss: 0.6934 - val_acc: 0.4863\n",
      "Epoch 84/150\n",
      "2380/2380 [==============================] - 33s 14ms/step - loss: 0.6931 - acc: 0.5059 - val_loss: 0.6936 - val_acc: 0.4863\n",
      "Epoch 85/150\n",
      "2380/2380 [==============================] - 33s 14ms/step - loss: 0.6932 - acc: 0.5059 - val_loss: 0.6936 - val_acc: 0.4863\n",
      "Epoch 86/150\n",
      "2380/2380 [==============================] - 33s 14ms/step - loss: 0.6931 - acc: 0.5059 - val_loss: 0.6935 - val_acc: 0.4863\n",
      "Epoch 87/150\n",
      "2380/2380 [==============================] - 33s 14ms/step - loss: 0.6931 - acc: 0.5059 - val_loss: 0.6935 - val_acc: 0.4863\n",
      "Epoch 88/150\n",
      "2380/2380 [==============================] - 33s 14ms/step - loss: 0.6932 - acc: 0.5059 - val_loss: 0.6935 - val_acc: 0.4863\n",
      "Epoch 89/150\n",
      "2380/2380 [==============================] - 33s 14ms/step - loss: 0.6931 - acc: 0.5059 - val_loss: 0.6935 - val_acc: 0.4863\n",
      "Epoch 90/150\n",
      "2380/2380 [==============================] - 33s 14ms/step - loss: 0.6932 - acc: 0.5059 - val_loss: 0.6936 - val_acc: 0.4863\n",
      "Epoch 91/150\n",
      "2380/2380 [==============================] - 33s 14ms/step - loss: 0.6931 - acc: 0.5059 - val_loss: 0.6934 - val_acc: 0.4863\n",
      "Epoch 92/150\n",
      "2380/2380 [==============================] - 33s 14ms/step - loss: 0.6931 - acc: 0.5059 - val_loss: 0.6934 - val_acc: 0.4863\n",
      "Epoch 93/150\n",
      "2380/2380 [==============================] - 33s 14ms/step - loss: 0.6931 - acc: 0.5059 - val_loss: 0.6934 - val_acc: 0.4863\n",
      "Epoch 94/150\n",
      "2380/2380 [==============================] - 33s 14ms/step - loss: 0.6931 - acc: 0.5059 - val_loss: 0.6935 - val_acc: 0.4863\n",
      "Epoch 95/150\n",
      "2380/2380 [==============================] - 33s 14ms/step - loss: 0.6932 - acc: 0.5059 - val_loss: 0.6934 - val_acc: 0.4863\n",
      "Epoch 96/150\n",
      "2380/2380 [==============================] - 33s 14ms/step - loss: 0.6931 - acc: 0.5059 - val_loss: 0.6934 - val_acc: 0.4863\n",
      "Epoch 97/150\n",
      "2380/2380 [==============================] - 33s 14ms/step - loss: 0.6931 - acc: 0.5059 - val_loss: 0.6934 - val_acc: 0.4863\n",
      "Epoch 98/150\n",
      "2380/2380 [==============================] - 33s 14ms/step - loss: 0.6931 - acc: 0.5059 - val_loss: 0.6935 - val_acc: 0.4863\n",
      "Epoch 99/150\n",
      "2380/2380 [==============================] - 33s 14ms/step - loss: 0.6931 - acc: 0.5059 - val_loss: 0.6935 - val_acc: 0.4863\n",
      "Epoch 100/150\n",
      "2380/2380 [==============================] - 33s 14ms/step - loss: 0.6932 - acc: 0.5059 - val_loss: 0.6936 - val_acc: 0.4863\n",
      "Epoch 101/150\n",
      "2380/2380 [==============================] - 33s 14ms/step - loss: 0.6931 - acc: 0.5059 - val_loss: 0.6936 - val_acc: 0.4863\n",
      "Epoch 102/150\n",
      "2380/2380 [==============================] - 33s 14ms/step - loss: 0.6931 - acc: 0.5059 - val_loss: 0.6936 - val_acc: 0.4863\n",
      "Epoch 103/150\n",
      "2380/2380 [==============================] - 33s 14ms/step - loss: 0.6931 - acc: 0.5059 - val_loss: 0.6936 - val_acc: 0.4863\n",
      "Epoch 104/150\n",
      "2380/2380 [==============================] - 33s 14ms/step - loss: 0.6931 - acc: 0.5059 - val_loss: 0.6935 - val_acc: 0.4863\n",
      "Epoch 105/150\n",
      "2380/2380 [==============================] - 33s 14ms/step - loss: 0.6931 - acc: 0.5059 - val_loss: 0.6934 - val_acc: 0.4863\n",
      "Epoch 106/150\n",
      "2380/2380 [==============================] - 33s 14ms/step - loss: 0.6931 - acc: 0.5059 - val_loss: 0.6934 - val_acc: 0.4863\n",
      "Epoch 107/150\n",
      "2380/2380 [==============================] - 33s 14ms/step - loss: 0.6931 - acc: 0.5059 - val_loss: 0.6935 - val_acc: 0.4863\n",
      "Epoch 108/150\n",
      "2380/2380 [==============================] - 33s 14ms/step - loss: 0.6931 - acc: 0.5059 - val_loss: 0.6934 - val_acc: 0.4863\n",
      "Epoch 109/150\n",
      "2380/2380 [==============================] - 33s 14ms/step - loss: 0.6931 - acc: 0.5059 - val_loss: 0.6934 - val_acc: 0.4863\n",
      "Epoch 110/150\n",
      "2380/2380 [==============================] - 33s 14ms/step - loss: 0.6931 - acc: 0.5059 - val_loss: 0.6934 - val_acc: 0.4863\n",
      "Epoch 111/150\n",
      "2380/2380 [==============================] - 33s 14ms/step - loss: 0.6932 - acc: 0.5059 - val_loss: 0.6935 - val_acc: 0.4863\n",
      "Epoch 112/150\n",
      "2380/2380 [==============================] - 33s 14ms/step - loss: 0.6931 - acc: 0.5059 - val_loss: 0.6935 - val_acc: 0.4863\n",
      "Epoch 113/150\n",
      "2380/2380 [==============================] - 33s 14ms/step - loss: 0.6931 - acc: 0.5059 - val_loss: 0.6936 - val_acc: 0.4863\n",
      "Epoch 114/150\n",
      "2380/2380 [==============================] - 33s 14ms/step - loss: 0.6932 - acc: 0.5059 - val_loss: 0.6936 - val_acc: 0.4863\n",
      "Epoch 115/150\n",
      "2380/2380 [==============================] - 33s 14ms/step - loss: 0.6931 - acc: 0.5059 - val_loss: 0.6936 - val_acc: 0.4863\n",
      "Epoch 116/150\n",
      "2380/2380 [==============================] - 33s 14ms/step - loss: 0.6931 - acc: 0.5059 - val_loss: 0.6938 - val_acc: 0.4863\n",
      "Epoch 117/150\n",
      "2380/2380 [==============================] - 33s 14ms/step - loss: 0.6931 - acc: 0.5059 - val_loss: 0.6938 - val_acc: 0.4863\n",
      "Epoch 118/150\n",
      "2380/2380 [==============================] - 33s 14ms/step - loss: 0.6931 - acc: 0.5059 - val_loss: 0.6938 - val_acc: 0.4863\n",
      "Epoch 119/150\n"
     ]
    },
    {
     "name": "stdout",
     "output_type": "stream",
     "text": [
      "2380/2380 [==============================] - 33s 14ms/step - loss: 0.6931 - acc: 0.5059 - val_loss: 0.6936 - val_acc: 0.4863\n",
      "Epoch 120/150\n",
      "2380/2380 [==============================] - 33s 14ms/step - loss: 0.6931 - acc: 0.5059 - val_loss: 0.6935 - val_acc: 0.4863\n",
      "Epoch 121/150\n",
      "2380/2380 [==============================] - 33s 14ms/step - loss: 0.6931 - acc: 0.5059 - val_loss: 0.6936 - val_acc: 0.4863\n",
      "Epoch 122/150\n",
      "2380/2380 [==============================] - 33s 14ms/step - loss: 0.6931 - acc: 0.5059 - val_loss: 0.6937 - val_acc: 0.4863\n",
      "Epoch 123/150\n",
      "2380/2380 [==============================] - 33s 14ms/step - loss: 0.6931 - acc: 0.5059 - val_loss: 0.6937 - val_acc: 0.4863\n",
      "Epoch 124/150\n",
      "2380/2380 [==============================] - 33s 14ms/step - loss: 0.6931 - acc: 0.5059 - val_loss: 0.6937 - val_acc: 0.4863\n",
      "Epoch 125/150\n",
      "2380/2380 [==============================] - 33s 14ms/step - loss: 0.6931 - acc: 0.5059 - val_loss: 0.6938 - val_acc: 0.4863\n",
      "Epoch 126/150\n",
      "2380/2380 [==============================] - 33s 14ms/step - loss: 0.6931 - acc: 0.5059 - val_loss: 0.6935 - val_acc: 0.4863\n",
      "Epoch 127/150\n",
      "2380/2380 [==============================] - 33s 14ms/step - loss: 0.6931 - acc: 0.5059 - val_loss: 0.6935 - val_acc: 0.4863\n",
      "Epoch 128/150\n",
      "2380/2380 [==============================] - 33s 14ms/step - loss: 0.6931 - acc: 0.5059 - val_loss: 0.6936 - val_acc: 0.4863\n",
      "Epoch 129/150\n",
      "2380/2380 [==============================] - 33s 14ms/step - loss: 0.6931 - acc: 0.5059 - val_loss: 0.6935 - val_acc: 0.4863\n",
      "Epoch 130/150\n",
      "2380/2380 [==============================] - 33s 14ms/step - loss: 0.6931 - acc: 0.5059 - val_loss: 0.6935 - val_acc: 0.4863\n",
      "Epoch 131/150\n",
      "2380/2380 [==============================] - 33s 14ms/step - loss: 0.6931 - acc: 0.5059 - val_loss: 0.6936 - val_acc: 0.4863\n",
      "Epoch 132/150\n",
      "2380/2380 [==============================] - 33s 14ms/step - loss: 0.6931 - acc: 0.5059 - val_loss: 0.6934 - val_acc: 0.4863\n",
      "Epoch 133/150\n",
      "2380/2380 [==============================] - 33s 14ms/step - loss: 0.6931 - acc: 0.5059 - val_loss: 0.6934 - val_acc: 0.4863\n",
      "Epoch 134/150\n",
      "2380/2380 [==============================] - 33s 14ms/step - loss: 0.6931 - acc: 0.5059 - val_loss: 0.6935 - val_acc: 0.4863\n",
      "Epoch 135/150\n",
      "2380/2380 [==============================] - 33s 14ms/step - loss: 0.6931 - acc: 0.5059 - val_loss: 0.6935 - val_acc: 0.4863\n",
      "Epoch 136/150\n",
      "2380/2380 [==============================] - 33s 14ms/step - loss: 0.6931 - acc: 0.5059 - val_loss: 0.6936 - val_acc: 0.4863\n",
      "Epoch 137/150\n",
      "2380/2380 [==============================] - 33s 14ms/step - loss: 0.6931 - acc: 0.5059 - val_loss: 0.6935 - val_acc: 0.4863\n",
      "Epoch 138/150\n",
      "2380/2380 [==============================] - 33s 14ms/step - loss: 0.6931 - acc: 0.5059 - val_loss: 0.6936 - val_acc: 0.4863\n",
      "Epoch 139/150\n",
      "2380/2380 [==============================] - 33s 14ms/step - loss: 0.6931 - acc: 0.5059 - val_loss: 0.6937 - val_acc: 0.4863\n",
      "Epoch 140/150\n",
      "2380/2380 [==============================] - 33s 14ms/step - loss: 0.6931 - acc: 0.5059 - val_loss: 0.6937 - val_acc: 0.4863\n",
      "Epoch 141/150\n",
      "2380/2380 [==============================] - 33s 14ms/step - loss: 0.6932 - acc: 0.5059 - val_loss: 0.6938 - val_acc: 0.4863\n",
      "Epoch 142/150\n",
      "2380/2380 [==============================] - 33s 14ms/step - loss: 0.6931 - acc: 0.5059 - val_loss: 0.6936 - val_acc: 0.4863\n",
      "Epoch 143/150\n",
      "2380/2380 [==============================] - 33s 14ms/step - loss: 0.6931 - acc: 0.5059 - val_loss: 0.6936 - val_acc: 0.4863\n",
      "Epoch 144/150\n",
      "2380/2380 [==============================] - 33s 14ms/step - loss: 0.6931 - acc: 0.5059 - val_loss: 0.6936 - val_acc: 0.4863\n",
      "Epoch 145/150\n",
      "2380/2380 [==============================] - 33s 14ms/step - loss: 0.6931 - acc: 0.5059 - val_loss: 0.6936 - val_acc: 0.4863\n",
      "Epoch 146/150\n",
      "2380/2380 [==============================] - 33s 14ms/step - loss: 0.6931 - acc: 0.5059 - val_loss: 0.6936 - val_acc: 0.4863\n",
      "Epoch 147/150\n",
      "2380/2380 [==============================] - 33s 14ms/step - loss: 0.6931 - acc: 0.5059 - val_loss: 0.6935 - val_acc: 0.4863\n",
      "Epoch 148/150\n",
      "2380/2380 [==============================] - 33s 14ms/step - loss: 0.6932 - acc: 0.5059 - val_loss: 0.6935 - val_acc: 0.4863\n",
      "Epoch 149/150\n",
      "2380/2380 [==============================] - 33s 14ms/step - loss: 0.6931 - acc: 0.5059 - val_loss: 0.6935 - val_acc: 0.4863\n",
      "Epoch 150/150\n",
      "2380/2380 [==============================] - 33s 14ms/step - loss: 0.6931 - acc: 0.5059 - val_loss: 0.6935 - val_acc: 0.4863\n"
     ]
    }
   ],
   "source": [
    "model = get_Xception()\n",
    "history = model.fit(X_train, y_train, batch_size=64, epochs=150,\n",
    "          verbose=1, validation_data=(X_test, y_test))"
   ]
  },
  {
   "cell_type": "code",
   "execution_count": 15,
   "metadata": {},
   "outputs": [
    {
     "data": {
      "image/png": "[encoded data removed]",
      "text/plain": [
       "<matplotlib.figure.Figure at 0x2697cf277f0>"
      ]
     },
     "metadata": {},
     "output_type": "display_data"
    }
   ],
   "source": [
    "plot_history(history)"
   ]
  },
  {
   "cell_type": "code",
   "execution_count": null,
   "metadata": {
    "collapsed": true
   },
   "outputs": [],
   "source": []
  },
  {
   "cell_type": "code",
   "execution_count": 16,
   "metadata": {
    "collapsed": true
   },
   "outputs": [],
   "source": []
  },
  {
   "cell_type": "code",
   "execution_count": 29,
   "metadata": {
    "collapsed": true
   },
   "outputs": [],
   "source": []
  },
  {
   "cell_type": "code",
   "execution_count": null,
   "metadata": {
    "collapsed": true
   },
   "outputs": [],
   "source": []
  },
  {
   "cell_type": "code",
   "execution_count": null,
   "metadata": {
    "collapsed": true
   },
   "outputs": [],
   "source": []
  },
  {
   "cell_type": "code",
   "execution_count": 17,
   "metadata": {
    "code_folding": [
     1,
     26
    ],
    "collapsed": true
   },
   "outputs": [],
   "source": [
    "from keras.applications.resnet50 import ResNet50\n",
    "def get_ResNet():\n",
    "    basemodel = ResNet50(include_top=False, input_shape=IMG_SIZE)\n",
    "    base_out = basemodel.output\n",
    "\n",
    "    base_out = Flatten()(base_out)\n",
    "\n",
    "    base_out = Dense(1024, activation='elu',\n",
    "                           kernel_initializer='glorot_normal',\n",
    "                           kernel_regularizer=l2(1e-3))(base_out)\n",
    "    base_out = Dropout(0.5)(base_out)\n",
    "    predictions = Dense(2, activation='softmax',\n",
    "                              kernel_initializer='glorot_normal',\n",
    "                              kernel_regularizer=l2(1e-3))(base_out)\n",
    "    model = Model(inputs=basemodel.input, outputs=predictions)\n",
    "\n",
    "    for layer in model.layers[:141]:\n",
    "                layer.trainable = False\n",
    "    for layer in model.layers[141:]:\n",
    "                layer.trainable = True\n",
    "\n",
    "    model.compile(optimizer=Adam(lr=1e-4, decay=1e-2),\n",
    "                        loss='categorical_crossentropy',\n",
    "                        metrics=['accuracy'])\n",
    "    return model\n",
    "\n",
    "#\n",
    "    # model = ResNet50(include_top=False,input_shape = IMG_SIZE)\n",
    "    # for layer in model.layers[:141]:\n",
    "    #             layer.trainable = False\n",
    "    # for layer in model.layers[141:]:\n",
    "    #             layer.trainable = True       \n",
    "    # last = model.layers[-1].output\n",
    "    # x = Dense(2, activation=\"softmax\")(last)\n",
    "    # finetuned_model = Model(model.input, x)\n",
    "    # finetuned_model.compile(optimizer=Adam(lr=0.0001), loss='categorical_crossentropy', metrics=['accuracy'])\n",
    "    # history = finetuned_model.fit(X_train, y_train, batch_size=128, epochs=10,\n",
    "    #           verbose=1, validation_data=(X_test, y_test))"
   ]
  },
  {
   "cell_type": "code",
   "execution_count": 18,
   "metadata": {},
   "outputs": [
    {
     "name": "stdout",
     "output_type": "stream",
     "text": [
      "WARNING:tensorflow:Variable *= will be deprecated. Use variable.assign_mul if you want assignment to the variable value or 'x = x * y' if you want a new python Tensor object.\n",
      "Train on 2380 samples, validate on 1020 samples\n",
      "Epoch 1/150\n",
      "2380/2380 [==============================] - 37s 15ms/step - loss: 1.7360 - acc: 0.6517 - val_loss: 1.9354 - val_acc: 0.4863\n",
      "Epoch 2/150\n",
      "2380/2380 [==============================] - 31s 13ms/step - loss: 1.4397 - acc: 0.8181 - val_loss: 1.8544 - val_acc: 0.4863\n",
      "Epoch 3/150\n",
      "2380/2380 [==============================] - 31s 13ms/step - loss: 1.2483 - acc: 0.9151 - val_loss: 1.9079 - val_acc: 0.4863\n",
      "Epoch 4/150\n",
      "2380/2380 [==============================] - 31s 13ms/step - loss: 1.0948 - acc: 0.9819 - val_loss: 2.2047 - val_acc: 0.4863\n",
      "Epoch 5/150\n",
      "2380/2380 [==============================] - 31s 13ms/step - loss: 1.0339 - acc: 0.9941 - val_loss: 2.2019 - val_acc: 0.4863\n",
      "Epoch 6/150\n",
      "2380/2380 [==============================] - 31s 13ms/step - loss: 1.0040 - acc: 0.9966 - val_loss: 2.1433 - val_acc: 0.4863\n",
      "Epoch 7/150\n",
      "2380/2380 [==============================] - 31s 13ms/step - loss: 0.9856 - acc: 0.9987 - val_loss: 2.1849 - val_acc: 0.4863\n",
      "Epoch 8/150\n",
      "2380/2380 [==============================] - 31s 13ms/step - loss: 0.9721 - acc: 0.9992 - val_loss: 2.1218 - val_acc: 0.4863\n",
      "Epoch 9/150\n",
      "2380/2380 [==============================] - 31s 13ms/step - loss: 0.9683 - acc: 0.9966 - val_loss: 2.0979 - val_acc: 0.4863\n",
      "Epoch 10/150\n",
      "2380/2380 [==============================] - 31s 13ms/step - loss: 0.9606 - acc: 0.9975 - val_loss: 2.1567 - val_acc: 0.4863\n",
      "Epoch 11/150\n",
      "2380/2380 [==============================] - 31s 13ms/step - loss: 0.9509 - acc: 0.9996 - val_loss: 1.9377 - val_acc: 0.4863\n",
      "Epoch 12/150\n",
      "2380/2380 [==============================] - 31s 13ms/step - loss: 0.9410 - acc: 0.9987 - val_loss: 1.9493 - val_acc: 0.4863\n",
      "Epoch 13/150\n",
      "2380/2380 [==============================] - 31s 13ms/step - loss: 0.9332 - acc: 0.9996 - val_loss: 1.9038 - val_acc: 0.4863\n",
      "Epoch 14/150\n",
      "2380/2380 [==============================] - 31s 13ms/step - loss: 0.9249 - acc: 0.9996 - val_loss: 1.9713 - val_acc: 0.4863\n",
      "Epoch 15/150\n",
      "2380/2380 [==============================] - 31s 13ms/step - loss: 0.9181 - acc: 0.9996 - val_loss: 1.8918 - val_acc: 0.4863\n",
      "Epoch 16/150\n",
      "2380/2380 [==============================] - 31s 13ms/step - loss: 0.9125 - acc: 1.0000 - val_loss: 1.9785 - val_acc: 0.4863\n",
      "Epoch 17/150\n",
      "2380/2380 [==============================] - 31s 13ms/step - loss: 0.9057 - acc: 1.0000 - val_loss: 1.9544 - val_acc: 0.4863\n",
      "Epoch 18/150\n",
      "2380/2380 [==============================] - 31s 13ms/step - loss: 0.8996 - acc: 1.0000 - val_loss: 1.9632 - val_acc: 0.4863\n",
      "Epoch 19/150\n",
      "2380/2380 [==============================] - 31s 13ms/step - loss: 0.8943 - acc: 1.0000 - val_loss: 1.9453 - val_acc: 0.4863\n",
      "Epoch 20/150\n",
      "2380/2380 [==============================] - 31s 13ms/step - loss: 0.8889 - acc: 1.0000 - val_loss: 1.9127 - val_acc: 0.4863\n",
      "Epoch 21/150\n",
      "2380/2380 [==============================] - 31s 13ms/step - loss: 0.8839 - acc: 1.0000 - val_loss: 1.9036 - val_acc: 0.4863\n",
      "Epoch 22/150\n",
      "2380/2380 [==============================] - 31s 13ms/step - loss: 0.8788 - acc: 1.0000 - val_loss: 1.8820 - val_acc: 0.4863\n",
      "Epoch 23/150\n",
      "2380/2380 [==============================] - 31s 13ms/step - loss: 0.8741 - acc: 1.0000 - val_loss: 1.8733 - val_acc: 0.4863\n",
      "Epoch 24/150\n",
      "2380/2380 [==============================] - 31s 13ms/step - loss: 0.8697 - acc: 1.0000 - val_loss: 1.8736 - val_acc: 0.4863\n",
      "Epoch 25/150\n",
      "2380/2380 [==============================] - 31s 13ms/step - loss: 0.8654 - acc: 1.0000 - val_loss: 1.8338 - val_acc: 0.4863\n",
      "Epoch 26/150\n",
      "2380/2380 [==============================] - 31s 13ms/step - loss: 0.8617 - acc: 1.0000 - val_loss: 1.8969 - val_acc: 0.4863\n",
      "Epoch 27/150\n",
      "2380/2380 [==============================] - 31s 13ms/step - loss: 0.8571 - acc: 1.0000 - val_loss: 1.9991 - val_acc: 0.4863\n",
      "Epoch 28/150\n",
      "2380/2380 [==============================] - 31s 13ms/step - loss: 0.8524 - acc: 1.0000 - val_loss: 2.0051 - val_acc: 0.4863\n",
      "Epoch 29/150\n",
      "2380/2380 [==============================] - 31s 13ms/step - loss: 0.8481 - acc: 1.0000 - val_loss: 1.9194 - val_acc: 0.4863\n",
      "Epoch 30/150\n",
      "2380/2380 [==============================] - 31s 13ms/step - loss: 0.8441 - acc: 1.0000 - val_loss: 1.9536 - val_acc: 0.4863\n",
      "Epoch 31/150\n",
      "2380/2380 [==============================] - 31s 13ms/step - loss: 0.8402 - acc: 1.0000 - val_loss: 1.9350 - val_acc: 0.4863\n",
      "Epoch 32/150\n",
      "2380/2380 [==============================] - 31s 13ms/step - loss: 0.8367 - acc: 1.0000 - val_loss: 1.8893 - val_acc: 0.4863\n",
      "Epoch 33/150\n",
      "2380/2380 [==============================] - 31s 13ms/step - loss: 0.8325 - acc: 1.0000 - val_loss: 1.9727 - val_acc: 0.4863\n",
      "Epoch 34/150\n",
      "2380/2380 [==============================] - 31s 13ms/step - loss: 0.8283 - acc: 1.0000 - val_loss: 1.9715 - val_acc: 0.4863\n",
      "Epoch 35/150\n",
      "2380/2380 [==============================] - 31s 13ms/step - loss: 0.8256 - acc: 0.9996 - val_loss: 1.9958 - val_acc: 0.4863\n",
      "Epoch 36/150\n",
      "2380/2380 [==============================] - 31s 13ms/step - loss: 0.8225 - acc: 0.9996 - val_loss: 1.9845 - val_acc: 0.4863\n",
      "Epoch 37/150\n",
      "2380/2380 [==============================] - 31s 13ms/step - loss: 0.8189 - acc: 0.9996 - val_loss: 1.9929 - val_acc: 0.4863\n",
      "Epoch 38/150\n",
      "2380/2380 [==============================] - 31s 13ms/step - loss: 0.8141 - acc: 1.0000 - val_loss: 1.9958 - val_acc: 0.4863\n",
      "Epoch 39/150\n",
      "2380/2380 [==============================] - 31s 13ms/step - loss: 0.8109 - acc: 0.9996 - val_loss: 1.9599 - val_acc: 0.4863\n",
      "Epoch 40/150\n",
      "2380/2380 [==============================] - 31s 13ms/step - loss: 0.8073 - acc: 1.0000 - val_loss: 1.8998 - val_acc: 0.4863\n",
      "Epoch 41/150\n",
      "2380/2380 [==============================] - 31s 13ms/step - loss: 0.8042 - acc: 1.0000 - val_loss: 1.9092 - val_acc: 0.4863\n",
      "Epoch 42/150\n",
      "2380/2380 [==============================] - 31s 13ms/step - loss: 0.8006 - acc: 1.0000 - val_loss: 1.9913 - val_acc: 0.4863\n",
      "Epoch 43/150\n",
      "2380/2380 [==============================] - 31s 13ms/step - loss: 0.7988 - acc: 0.9996 - val_loss: 1.9359 - val_acc: 0.4863\n",
      "Epoch 44/150\n",
      "2380/2380 [==============================] - 31s 13ms/step - loss: 0.7941 - acc: 1.0000 - val_loss: 1.8081 - val_acc: 0.4863\n",
      "Epoch 45/150\n",
      "2380/2380 [==============================] - 31s 13ms/step - loss: 0.7909 - acc: 1.0000 - val_loss: 1.8186 - val_acc: 0.4863\n",
      "Epoch 46/150\n",
      "2380/2380 [==============================] - 31s 13ms/step - loss: 0.7875 - acc: 1.0000 - val_loss: 1.8329 - val_acc: 0.4863\n",
      "Epoch 47/150\n",
      "2380/2380 [==============================] - 31s 13ms/step - loss: 0.7854 - acc: 0.9996 - val_loss: 1.8356 - val_acc: 0.4863\n",
      "Epoch 48/150\n",
      "2380/2380 [==============================] - 31s 13ms/step - loss: 0.7821 - acc: 1.0000 - val_loss: 1.9338 - val_acc: 0.4863\n",
      "Epoch 49/150\n",
      "2380/2380 [==============================] - 31s 13ms/step - loss: 0.7787 - acc: 1.0000 - val_loss: 1.9078 - val_acc: 0.4863\n",
      "Epoch 50/150\n",
      "2380/2380 [==============================] - 31s 13ms/step - loss: 0.7756 - acc: 1.0000 - val_loss: 1.8948 - val_acc: 0.4863\n",
      "Epoch 51/150\n",
      "2380/2380 [==============================] - 31s 13ms/step - loss: 0.7725 - acc: 1.0000 - val_loss: 1.8619 - val_acc: 0.4863\n",
      "Epoch 52/150\n",
      "2380/2380 [==============================] - 31s 13ms/step - loss: 0.7697 - acc: 1.0000 - val_loss: 1.8111 - val_acc: 0.4863\n",
      "Epoch 53/150\n",
      "2380/2380 [==============================] - 31s 13ms/step - loss: 0.7668 - acc: 1.0000 - val_loss: 1.7972 - val_acc: 0.4863\n",
      "Epoch 54/150\n",
      "2380/2380 [==============================] - 31s 13ms/step - loss: 0.7639 - acc: 1.0000 - val_loss: 1.7836 - val_acc: 0.4863\n",
      "Epoch 55/150\n",
      "2380/2380 [==============================] - 31s 13ms/step - loss: 0.7611 - acc: 1.0000 - val_loss: 1.8093 - val_acc: 0.4863\n",
      "Epoch 56/150\n",
      "2380/2380 [==============================] - 31s 13ms/step - loss: 0.7584 - acc: 1.0000 - val_loss: 1.7999 - val_acc: 0.4863\n",
      "Epoch 57/150\n",
      "2380/2380 [==============================] - 31s 13ms/step - loss: 0.7554 - acc: 1.0000 - val_loss: 1.8380 - val_acc: 0.4863\n",
      "Epoch 58/150\n",
      "2380/2380 [==============================] - 31s 13ms/step - loss: 0.7527 - acc: 1.0000 - val_loss: 1.8263 - val_acc: 0.4863\n"
     ]
    },
    {
     "name": "stdout",
     "output_type": "stream",
     "text": [
      "Epoch 59/150\n",
      "2380/2380 [==============================] - 31s 13ms/step - loss: 0.7498 - acc: 1.0000 - val_loss: 1.8332 - val_acc: 0.4863\n",
      "Epoch 60/150\n",
      "2380/2380 [==============================] - 31s 13ms/step - loss: 0.7475 - acc: 0.9996 - val_loss: 1.8160 - val_acc: 0.4863\n",
      "Epoch 61/150\n",
      "2380/2380 [==============================] - 31s 13ms/step - loss: 0.7456 - acc: 0.9996 - val_loss: 1.8060 - val_acc: 0.4863\n",
      "Epoch 62/150\n",
      "2380/2380 [==============================] - 31s 13ms/step - loss: 0.7424 - acc: 1.0000 - val_loss: 1.7684 - val_acc: 0.4863\n",
      "Epoch 63/150\n",
      "2380/2380 [==============================] - 31s 13ms/step - loss: 0.7395 - acc: 1.0000 - val_loss: 1.8054 - val_acc: 0.4863\n",
      "Epoch 64/150\n",
      "2380/2380 [==============================] - 31s 13ms/step - loss: 0.7367 - acc: 1.0000 - val_loss: 1.7927 - val_acc: 0.4863\n",
      "Epoch 65/150\n",
      "2380/2380 [==============================] - 31s 13ms/step - loss: 0.7343 - acc: 1.0000 - val_loss: 1.8007 - val_acc: 0.4863\n",
      "Epoch 66/150\n",
      "2380/2380 [==============================] - 31s 13ms/step - loss: 0.7316 - acc: 1.0000 - val_loss: 1.7865 - val_acc: 0.4863\n",
      "Epoch 67/150\n",
      "2380/2380 [==============================] - 31s 13ms/step - loss: 0.7291 - acc: 1.0000 - val_loss: 1.7765 - val_acc: 0.4863\n",
      "Epoch 68/150\n",
      "2380/2380 [==============================] - 31s 13ms/step - loss: 0.7266 - acc: 1.0000 - val_loss: 1.7638 - val_acc: 0.4863\n",
      "Epoch 69/150\n",
      "2380/2380 [==============================] - 31s 13ms/step - loss: 0.7240 - acc: 1.0000 - val_loss: 1.7556 - val_acc: 0.4863\n",
      "Epoch 70/150\n",
      "2380/2380 [==============================] - 31s 13ms/step - loss: 0.7215 - acc: 1.0000 - val_loss: 1.7474 - val_acc: 0.4863\n",
      "Epoch 71/150\n",
      "2380/2380 [==============================] - 31s 13ms/step - loss: 0.7190 - acc: 1.0000 - val_loss: 1.7562 - val_acc: 0.4863\n",
      "Epoch 72/150\n",
      "2380/2380 [==============================] - 31s 13ms/step - loss: 0.7182 - acc: 0.9996 - val_loss: 1.7395 - val_acc: 0.4863\n",
      "Epoch 73/150\n",
      "2380/2380 [==============================] - 31s 13ms/step - loss: 0.7145 - acc: 1.0000 - val_loss: 1.7759 - val_acc: 0.4863\n",
      "Epoch 74/150\n",
      "2380/2380 [==============================] - 31s 13ms/step - loss: 0.7120 - acc: 1.0000 - val_loss: 1.7781 - val_acc: 0.4863\n",
      "Epoch 75/150\n",
      "2380/2380 [==============================] - 31s 13ms/step - loss: 0.7096 - acc: 1.0000 - val_loss: 1.7754 - val_acc: 0.4863\n",
      "Epoch 76/150\n",
      "2380/2380 [==============================] - 31s 13ms/step - loss: 0.7073 - acc: 1.0000 - val_loss: 1.7878 - val_acc: 0.4863\n",
      "Epoch 77/150\n",
      "2380/2380 [==============================] - 31s 13ms/step - loss: 0.7048 - acc: 1.0000 - val_loss: 1.7846 - val_acc: 0.4863\n",
      "Epoch 78/150\n",
      "2380/2380 [==============================] - 31s 13ms/step - loss: 0.7026 - acc: 1.0000 - val_loss: 1.7710 - val_acc: 0.4863\n",
      "Epoch 79/150\n",
      "2380/2380 [==============================] - 31s 13ms/step - loss: 0.7001 - acc: 1.0000 - val_loss: 1.7591 - val_acc: 0.4863\n",
      "Epoch 80/150\n",
      "2380/2380 [==============================] - 31s 13ms/step - loss: 0.6977 - acc: 1.0000 - val_loss: 1.7548 - val_acc: 0.4863\n",
      "Epoch 81/150\n",
      "2380/2380 [==============================] - 31s 13ms/step - loss: 0.6955 - acc: 1.0000 - val_loss: 1.7505 - val_acc: 0.4863\n",
      "Epoch 82/150\n",
      "2380/2380 [==============================] - 31s 13ms/step - loss: 0.6930 - acc: 1.0000 - val_loss: 1.7556 - val_acc: 0.4863\n",
      "Epoch 83/150\n",
      "2380/2380 [==============================] - 31s 13ms/step - loss: 0.6907 - acc: 1.0000 - val_loss: 1.7530 - val_acc: 0.4863\n",
      "Epoch 84/150\n",
      "2380/2380 [==============================] - 31s 13ms/step - loss: 0.6888 - acc: 1.0000 - val_loss: 1.7447 - val_acc: 0.4863\n",
      "Epoch 85/150\n",
      "2380/2380 [==============================] - 31s 13ms/step - loss: 0.6865 - acc: 1.0000 - val_loss: 1.7329 - val_acc: 0.4863\n",
      "Epoch 86/150\n",
      "2380/2380 [==============================] - 31s 13ms/step - loss: 0.6841 - acc: 1.0000 - val_loss: 1.7373 - val_acc: 0.4863\n",
      "Epoch 87/150\n",
      "2380/2380 [==============================] - 31s 13ms/step - loss: 0.6817 - acc: 1.0000 - val_loss: 1.7216 - val_acc: 0.4863\n",
      "Epoch 88/150\n",
      "2380/2380 [==============================] - 31s 13ms/step - loss: 0.6795 - acc: 1.0000 - val_loss: 1.7229 - val_acc: 0.4863\n",
      "Epoch 89/150\n",
      "2380/2380 [==============================] - 31s 13ms/step - loss: 0.6772 - acc: 1.0000 - val_loss: 1.7132 - val_acc: 0.4863\n",
      "Epoch 90/150\n",
      "2380/2380 [==============================] - 31s 13ms/step - loss: 0.6750 - acc: 1.0000 - val_loss: 1.7072 - val_acc: 0.4863\n",
      "Epoch 91/150\n",
      "2380/2380 [==============================] - 31s 13ms/step - loss: 0.6727 - acc: 1.0000 - val_loss: 1.7058 - val_acc: 0.4863\n",
      "Epoch 92/150\n",
      "2380/2380 [==============================] - 31s 13ms/step - loss: 0.6704 - acc: 1.0000 - val_loss: 1.6915 - val_acc: 0.4863\n",
      "Epoch 93/150\n",
      "2380/2380 [==============================] - 31s 13ms/step - loss: 0.6682 - acc: 1.0000 - val_loss: 1.6872 - val_acc: 0.4863\n",
      "Epoch 94/150\n",
      "2380/2380 [==============================] - 31s 13ms/step - loss: 0.6660 - acc: 1.0000 - val_loss: 1.6904 - val_acc: 0.4863\n",
      "Epoch 95/150\n",
      "2380/2380 [==============================] - 31s 13ms/step - loss: 0.6638 - acc: 1.0000 - val_loss: 1.6946 - val_acc: 0.4863\n",
      "Epoch 96/150\n",
      "2380/2380 [==============================] - 31s 13ms/step - loss: 0.6616 - acc: 1.0000 - val_loss: 1.7429 - val_acc: 0.4863\n",
      "Epoch 97/150\n",
      "2380/2380 [==============================] - 31s 13ms/step - loss: 0.6594 - acc: 1.0000 - val_loss: 1.7815 - val_acc: 0.4863\n",
      "Epoch 98/150\n",
      "2380/2380 [==============================] - 31s 13ms/step - loss: 0.6573 - acc: 1.0000 - val_loss: 1.7649 - val_acc: 0.4863\n",
      "Epoch 99/150\n",
      "2380/2380 [==============================] - 31s 13ms/step - loss: 0.6554 - acc: 1.0000 - val_loss: 1.7933 - val_acc: 0.4863\n",
      "Epoch 100/150\n",
      "2380/2380 [==============================] - 31s 13ms/step - loss: 0.6531 - acc: 1.0000 - val_loss: 1.8485 - val_acc: 0.4863\n",
      "Epoch 101/150\n",
      "2380/2380 [==============================] - 31s 13ms/step - loss: 0.6509 - acc: 1.0000 - val_loss: 1.8027 - val_acc: 0.4863\n",
      "Epoch 102/150\n",
      "2380/2380 [==============================] - 31s 13ms/step - loss: 0.6487 - acc: 1.0000 - val_loss: 1.7814 - val_acc: 0.4863\n",
      "Epoch 103/150\n",
      "2380/2380 [==============================] - 31s 13ms/step - loss: 0.6465 - acc: 1.0000 - val_loss: 1.7666 - val_acc: 0.4863\n",
      "Epoch 104/150\n",
      "2380/2380 [==============================] - 31s 13ms/step - loss: 0.6443 - acc: 1.0000 - val_loss: 1.7570 - val_acc: 0.4863\n",
      "Epoch 105/150\n",
      "2380/2380 [==============================] - 31s 13ms/step - loss: 0.6422 - acc: 1.0000 - val_loss: 1.7263 - val_acc: 0.4863\n",
      "Epoch 106/150\n",
      "2380/2380 [==============================] - 31s 13ms/step - loss: 0.6402 - acc: 1.0000 - val_loss: 1.7220 - val_acc: 0.4863\n",
      "Epoch 107/150\n",
      "2380/2380 [==============================] - 31s 13ms/step - loss: 0.6380 - acc: 1.0000 - val_loss: 1.6932 - val_acc: 0.4863\n",
      "Epoch 108/150\n",
      "2380/2380 [==============================] - 31s 13ms/step - loss: 0.6358 - acc: 1.0000 - val_loss: 1.6873 - val_acc: 0.4863\n",
      "Epoch 109/150\n",
      "2380/2380 [==============================] - 31s 13ms/step - loss: 0.6340 - acc: 1.0000 - val_loss: 1.6866 - val_acc: 0.4863\n",
      "Epoch 110/150\n",
      "2380/2380 [==============================] - 31s 13ms/step - loss: 0.6319 - acc: 1.0000 - val_loss: 1.6594 - val_acc: 0.4863\n",
      "Epoch 111/150\n",
      "2380/2380 [==============================] - 31s 13ms/step - loss: 0.6298 - acc: 1.0000 - val_loss: 1.7104 - val_acc: 0.4863\n",
      "Epoch 112/150\n",
      "2380/2380 [==============================] - 31s 13ms/step - loss: 0.6279 - acc: 1.0000 - val_loss: 1.7192 - val_acc: 0.4863\n",
      "Epoch 113/150\n",
      "2380/2380 [==============================] - 31s 13ms/step - loss: 0.6262 - acc: 1.0000 - val_loss: 1.7465 - val_acc: 0.4863\n",
      "Epoch 114/150\n",
      "2380/2380 [==============================] - 31s 13ms/step - loss: 0.6238 - acc: 1.0000 - val_loss: 1.6659 - val_acc: 0.4863\n",
      "Epoch 115/150\n",
      "2380/2380 [==============================] - 31s 13ms/step - loss: 0.6219 - acc: 1.0000 - val_loss: 1.6724 - val_acc: 0.4863\n",
      "Epoch 116/150\n",
      "2380/2380 [==============================] - 31s 13ms/step - loss: 0.6200 - acc: 1.0000 - val_loss: 1.6830 - val_acc: 0.4863\n",
      "Epoch 117/150\n",
      "2380/2380 [==============================] - 31s 13ms/step - loss: 0.6178 - acc: 1.0000 - val_loss: 1.7066 - val_acc: 0.4863\n",
      "Epoch 118/150\n"
     ]
    },
    {
     "name": "stdout",
     "output_type": "stream",
     "text": [
      "2380/2380 [==============================] - 31s 13ms/step - loss: 0.6159 - acc: 1.0000 - val_loss: 1.7034 - val_acc: 0.4863\n",
      "Epoch 119/150\n",
      "2380/2380 [==============================] - 31s 13ms/step - loss: 0.6140 - acc: 1.0000 - val_loss: 1.7065 - val_acc: 0.4863\n",
      "Epoch 120/150\n",
      "2380/2380 [==============================] - 31s 13ms/step - loss: 0.6120 - acc: 1.0000 - val_loss: 1.7222 - val_acc: 0.4863\n",
      "Epoch 121/150\n",
      "2380/2380 [==============================] - 31s 13ms/step - loss: 0.6101 - acc: 1.0000 - val_loss: 1.7141 - val_acc: 0.4863\n",
      "Epoch 122/150\n",
      "2380/2380 [==============================] - 31s 13ms/step - loss: 0.6081 - acc: 1.0000 - val_loss: 1.7004 - val_acc: 0.4863\n",
      "Epoch 123/150\n",
      "2380/2380 [==============================] - 31s 13ms/step - loss: 0.6067 - acc: 0.9996 - val_loss: 1.7207 - val_acc: 0.4863\n",
      "Epoch 124/150\n",
      "2380/2380 [==============================] - 31s 13ms/step - loss: 0.6061 - acc: 0.9996 - val_loss: 1.7496 - val_acc: 0.4863\n",
      "Epoch 125/150\n",
      "2380/2380 [==============================] - 31s 13ms/step - loss: 0.6027 - acc: 1.0000 - val_loss: 1.7499 - val_acc: 0.4863\n",
      "Epoch 126/150\n",
      "2380/2380 [==============================] - 31s 13ms/step - loss: 0.6008 - acc: 1.0000 - val_loss: 1.7546 - val_acc: 0.4863\n",
      "Epoch 127/150\n",
      "2380/2380 [==============================] - 31s 13ms/step - loss: 0.5990 - acc: 1.0000 - val_loss: 1.7525 - val_acc: 0.4863\n",
      "Epoch 128/150\n",
      "2380/2380 [==============================] - 31s 13ms/step - loss: 0.5972 - acc: 1.0000 - val_loss: 1.7533 - val_acc: 0.4863\n",
      "Epoch 129/150\n",
      "2380/2380 [==============================] - 31s 13ms/step - loss: 0.5953 - acc: 1.0000 - val_loss: 1.7721 - val_acc: 0.4863\n",
      "Epoch 130/150\n",
      "2380/2380 [==============================] - 31s 13ms/step - loss: 0.5936 - acc: 1.0000 - val_loss: 1.7840 - val_acc: 0.4863\n",
      "Epoch 131/150\n",
      "2380/2380 [==============================] - 31s 13ms/step - loss: 0.5917 - acc: 1.0000 - val_loss: 1.7682 - val_acc: 0.4863\n",
      "Epoch 132/150\n",
      "2380/2380 [==============================] - 31s 13ms/step - loss: 0.5898 - acc: 1.0000 - val_loss: 1.7551 - val_acc: 0.4863\n",
      "Epoch 133/150\n",
      "2380/2380 [==============================] - 31s 13ms/step - loss: 0.5880 - acc: 1.0000 - val_loss: 1.7442 - val_acc: 0.4863\n",
      "Epoch 134/150\n",
      "2380/2380 [==============================] - 31s 13ms/step - loss: 0.5862 - acc: 1.0000 - val_loss: 1.7349 - val_acc: 0.4863\n",
      "Epoch 135/150\n",
      "2380/2380 [==============================] - 31s 13ms/step - loss: 0.5845 - acc: 1.0000 - val_loss: 1.7237 - val_acc: 0.4863\n",
      "Epoch 136/150\n",
      "2380/2380 [==============================] - 31s 13ms/step - loss: 0.5826 - acc: 1.0000 - val_loss: 1.7128 - val_acc: 0.4863\n",
      "Epoch 137/150\n",
      "2380/2380 [==============================] - 31s 13ms/step - loss: 0.5809 - acc: 1.0000 - val_loss: 1.7033 - val_acc: 0.4863\n",
      "Epoch 138/150\n",
      "2380/2380 [==============================] - 31s 13ms/step - loss: 0.5791 - acc: 1.0000 - val_loss: 1.7369 - val_acc: 0.4863\n",
      "Epoch 139/150\n",
      "2380/2380 [==============================] - 31s 13ms/step - loss: 0.5772 - acc: 1.0000 - val_loss: 1.7318 - val_acc: 0.4863\n",
      "Epoch 140/150\n",
      "2380/2380 [==============================] - 31s 13ms/step - loss: 0.5755 - acc: 1.0000 - val_loss: 1.7051 - val_acc: 0.4863\n",
      "Epoch 141/150\n",
      "2380/2380 [==============================] - 31s 13ms/step - loss: 0.5737 - acc: 1.0000 - val_loss: 1.6294 - val_acc: 0.4863\n",
      "Epoch 142/150\n",
      "2380/2380 [==============================] - 31s 13ms/step - loss: 0.5722 - acc: 1.0000 - val_loss: 1.6185 - val_acc: 0.4863\n",
      "Epoch 143/150\n",
      "2380/2380 [==============================] - 31s 13ms/step - loss: 0.5703 - acc: 1.0000 - val_loss: 1.6395 - val_acc: 0.4863\n",
      "Epoch 144/150\n",
      "2380/2380 [==============================] - 31s 13ms/step - loss: 0.5685 - acc: 1.0000 - val_loss: 1.6216 - val_acc: 0.4863\n",
      "Epoch 145/150\n",
      "2380/2380 [==============================] - 31s 13ms/step - loss: 0.5668 - acc: 1.0000 - val_loss: 1.6372 - val_acc: 0.4863\n",
      "Epoch 146/150\n",
      "2380/2380 [==============================] - 31s 13ms/step - loss: 0.5650 - acc: 1.0000 - val_loss: 1.6961 - val_acc: 0.4863\n",
      "Epoch 147/150\n",
      "2380/2380 [==============================] - 31s 13ms/step - loss: 0.5633 - acc: 1.0000 - val_loss: 1.6749 - val_acc: 0.4863\n",
      "Epoch 148/150\n",
      "2380/2380 [==============================] - 31s 13ms/step - loss: 0.5616 - acc: 1.0000 - val_loss: 1.6525 - val_acc: 0.4863\n",
      "Epoch 149/150\n",
      "2380/2380 [==============================] - 31s 13ms/step - loss: 0.5600 - acc: 1.0000 - val_loss: 1.6651 - val_acc: 0.4863\n",
      "Epoch 150/150\n",
      "2380/2380 [==============================] - 31s 13ms/step - loss: 0.5582 - acc: 1.0000 - val_loss: 1.7152 - val_acc: 0.4863\n"
     ]
    }
   ],
   "source": [
    "model = get_ResNet()\n",
    "history = model.fit(X_train, y_train, batch_size=64, epochs=150,\n",
    "          verbose=1, validation_data=(X_test, y_test))"
   ]
  },
  {
   "cell_type": "code",
   "execution_count": 19,
   "metadata": {},
   "outputs": [
    {
     "data": {
      "image/png": "[encoded data removed]",
      "text/plain": [
       "<matplotlib.figure.Figure at 0x26c6a6a0588>"
      ]
     },
     "metadata": {},
     "output_type": "display_data"
    }
   ],
   "source": [
    "plot_history(history)"
   ]
  },
  {
   "cell_type": "code",
   "execution_count": null,
   "metadata": {
    "collapsed": true
   },
   "outputs": [],
   "source": []
  },
  {
   "cell_type": "code",
   "execution_count": 20,
   "metadata": {
    "collapsed": true
   },
   "outputs": [],
   "source": []
  },
  {
   "cell_type": "code",
   "execution_count": null,
   "metadata": {
    "code_folding": [
     0
    ]
   },
   "outputs": [],
   "source": [
    "from keras import applications\n",
    "def get_VGG16():\n",
    "    model = applications.VGG19(weights = \"imagenet\", include_top=False, input_shape = (IMG_SIZE))\n",
    "    for layer in model.layers[:5]:\n",
    "        layer.trainable = False\n",
    "    x = model.output\n",
    "    x = Flatten()(x)\n",
    "    x = Dense(1024, activation=\"relu\")(x)\n",
    "    x = Dropout(0.5)(x)\n",
    "    x = Dense(1024, activation=\"relu\")(x)\n",
    "    predictions = Dense(2, activation=\"softmax\")(x)\n",
    "    model_final = Model(inputs = model.input, outputs = predictions)\n",
    "    model_final.compile(loss = \"categorical_crossentropy\", optimizer = SGD(lr=0.0001, momentum=0.9), metrics=[\"accuracy\"])\n",
    "    return model_final"
   ]
  },
  {
   "cell_type": "code",
   "execution_count": null,
   "metadata": {},
   "outputs": [
    {
     "name": "stdout",
     "output_type": "stream",
     "text": [
      "Train on 2380 samples, validate on 1020 samples\n",
      "Epoch 1/150\n",
      "2380/2380 [==============================] - 73s 31ms/step - loss: 0.7092 - acc: 0.5639 - val_loss: 0.6237 - val_acc: 0.6471\n",
      "Epoch 2/150\n",
      "2380/2380 [==============================] - 61s 26ms/step - loss: 0.6456 - acc: 0.6256 - val_loss: 0.5991 - val_acc: 0.6490\n",
      "Epoch 3/150\n",
      "2380/2380 [==============================] - 60s 25ms/step - loss: 0.6275 - acc: 0.6534 - val_loss: 0.5946 - val_acc: 0.6706\n",
      "Epoch 4/150\n",
      "2380/2380 [==============================] - 60s 25ms/step - loss: 0.6055 - acc: 0.6807 - val_loss: 0.5905 - val_acc: 0.6716\n",
      "Epoch 5/150\n",
      "2380/2380 [==============================] - 59s 25ms/step - loss: 0.6024 - acc: 0.6756 - val_loss: 0.5873 - val_acc: 0.6824\n",
      "Epoch 6/150\n",
      "2380/2380 [==============================] - 61s 26ms/step - loss: 0.5899 - acc: 0.6920 - val_loss: 0.6057 - val_acc: 0.6804\n",
      "Epoch 7/150\n",
      "2380/2380 [==============================] - 61s 26ms/step - loss: 0.5872 - acc: 0.7021 - val_loss: 0.5752 - val_acc: 0.6814\n",
      "Epoch 8/150\n",
      "2380/2380 [==============================] - 61s 25ms/step - loss: 0.5605 - acc: 0.7181 - val_loss: 0.5763 - val_acc: 0.6863\n",
      "Epoch 9/150\n",
      "2380/2380 [==============================] - 61s 26ms/step - loss: 0.5619 - acc: 0.7088 - val_loss: 0.5727 - val_acc: 0.6912\n",
      "Epoch 10/150\n",
      "2380/2380 [==============================] - 60s 25ms/step - loss: 0.5464 - acc: 0.7084 - val_loss: 0.5824 - val_acc: 0.6902\n",
      "Epoch 11/150\n",
      "2380/2380 [==============================] - 60s 25ms/step - loss: 0.5398 - acc: 0.7282 - val_loss: 0.5771 - val_acc: 0.6961\n",
      "Epoch 12/150\n",
      "2380/2380 [==============================] - 60s 25ms/step - loss: 0.5321 - acc: 0.7311 - val_loss: 0.5667 - val_acc: 0.6843\n",
      "Epoch 13/150\n",
      "2380/2380 [==============================] - 61s 26ms/step - loss: 0.5241 - acc: 0.7441 - val_loss: 0.5707 - val_acc: 0.6941\n",
      "Epoch 14/150\n",
      "2380/2380 [==============================] - 61s 26ms/step - loss: 0.5149 - acc: 0.7475 - val_loss: 0.5669 - val_acc: 0.6843\n",
      "Epoch 15/150\n",
      "2380/2380 [==============================] - 59s 25ms/step - loss: 0.5036 - acc: 0.7450 - val_loss: 0.5653 - val_acc: 0.6951\n",
      "Epoch 16/150\n",
      "2380/2380 [==============================] - 61s 26ms/step - loss: 0.4979 - acc: 0.7542 - val_loss: 0.5631 - val_acc: 0.6873\n",
      "Epoch 17/150\n",
      "2380/2380 [==============================] - 60s 25ms/step - loss: 0.4792 - acc: 0.7748 - val_loss: 0.5728 - val_acc: 0.6961\n",
      "Epoch 18/150\n",
      "2380/2380 [==============================] - 61s 26ms/step - loss: 0.4768 - acc: 0.7681 - val_loss: 0.5799 - val_acc: 0.6951\n",
      "Epoch 19/150\n",
      "2380/2380 [==============================] - 60s 25ms/step - loss: 0.4649 - acc: 0.7664 - val_loss: 0.5655 - val_acc: 0.6971\n",
      "Epoch 20/150\n",
      "2380/2380 [==============================] - 61s 26ms/step - loss: 0.4513 - acc: 0.7903 - val_loss: 0.5626 - val_acc: 0.6990\n",
      "Epoch 21/150\n",
      "2380/2380 [==============================] - 61s 26ms/step - loss: 0.4456 - acc: 0.7878 - val_loss: 0.5727 - val_acc: 0.7078\n",
      "Epoch 22/150\n",
      "2380/2380 [==============================] - 61s 26ms/step - loss: 0.4269 - acc: 0.7983 - val_loss: 0.5657 - val_acc: 0.7049\n",
      "Epoch 23/150\n",
      "2380/2380 [==============================] - 61s 25ms/step - loss: 0.4106 - acc: 0.8134 - val_loss: 0.5821 - val_acc: 0.7069\n",
      "Epoch 24/150\n",
      "2380/2380 [==============================] - 60s 25ms/step - loss: 0.4045 - acc: 0.8235 - val_loss: 0.5861 - val_acc: 0.7000\n",
      "Epoch 25/150\n",
      "2380/2380 [==============================] - 59s 25ms/step - loss: 0.3989 - acc: 0.8235 - val_loss: 0.5936 - val_acc: 0.7010\n",
      "Epoch 26/150\n",
      "2380/2380 [==============================] - 60s 25ms/step - loss: 0.3786 - acc: 0.8357 - val_loss: 0.6242 - val_acc: 0.6951\n",
      "Epoch 27/150\n",
      "2380/2380 [==============================] - 62s 26ms/step - loss: 0.3847 - acc: 0.8256 - val_loss: 0.5940 - val_acc: 0.7029\n",
      "Epoch 28/150\n",
      "2380/2380 [==============================] - 60s 25ms/step - loss: 0.3662 - acc: 0.8382 - val_loss: 0.5919 - val_acc: 0.7029\n",
      "Epoch 29/150\n",
      "2380/2380 [==============================] - 61s 26ms/step - loss: 0.3412 - acc: 0.8483 - val_loss: 0.6267 - val_acc: 0.6980\n",
      "Epoch 30/150\n",
      "2380/2380 [==============================] - 61s 26ms/step - loss: 0.3229 - acc: 0.8559 - val_loss: 0.6126 - val_acc: 0.7069\n",
      "Epoch 31/150\n",
      "2380/2380 [==============================] - 62s 26ms/step - loss: 0.3088 - acc: 0.8660 - val_loss: 0.6193 - val_acc: 0.7039\n",
      "Epoch 32/150\n",
      "2380/2380 [==============================] - 60s 25ms/step - loss: 0.2893 - acc: 0.8794 - val_loss: 0.6374 - val_acc: 0.6971\n",
      "Epoch 33/150\n",
      "2380/2380 [==============================] - 60s 25ms/step - loss: 0.2809 - acc: 0.8794 - val_loss: 0.6718 - val_acc: 0.7029\n",
      "Epoch 34/150\n",
      "2380/2380 [==============================] - 59s 25ms/step - loss: 0.2663 - acc: 0.8916 - val_loss: 0.6468 - val_acc: 0.7118\n",
      "Epoch 35/150\n",
      "2380/2380 [==============================] - 60s 25ms/step - loss: 0.2500 - acc: 0.9029 - val_loss: 0.6544 - val_acc: 0.6980\n",
      "Epoch 36/150\n",
      "2380/2380 [==============================] - 61s 26ms/step - loss: 0.2245 - acc: 0.9143 - val_loss: 0.6894 - val_acc: 0.7088\n",
      "Epoch 37/150\n",
      "2380/2380 [==============================] - 62s 26ms/step - loss: 0.2190 - acc: 0.9206 - val_loss: 0.8310 - val_acc: 0.6863\n",
      "Epoch 38/150\n",
      "2380/2380 [==============================] - 61s 26ms/step - loss: 0.2172 - acc: 0.9160 - val_loss: 0.7150 - val_acc: 0.7020\n",
      "Epoch 39/150\n",
      "2380/2380 [==============================] - 61s 25ms/step - loss: 0.1888 - acc: 0.9315 - val_loss: 0.7415 - val_acc: 0.6971\n",
      "Epoch 40/150\n",
      "2380/2380 [==============================] - 61s 26ms/step - loss: 0.1727 - acc: 0.9378 - val_loss: 0.8492 - val_acc: 0.6863\n",
      "Epoch 41/150\n",
      "2380/2380 [==============================] - 61s 26ms/step - loss: 0.1716 - acc: 0.9336 - val_loss: 0.7841 - val_acc: 0.7010\n",
      "Epoch 42/150\n",
      "2380/2380 [==============================] - 60s 25ms/step - loss: 0.1764 - acc: 0.9319 - val_loss: 0.7393 - val_acc: 0.7020\n",
      "Epoch 43/150\n",
      "2380/2380 [==============================] - 60s 25ms/step - loss: 0.1418 - acc: 0.9521 - val_loss: 0.9085 - val_acc: 0.6931\n",
      "Epoch 44/150\n",
      "2380/2380 [==============================] - 60s 25ms/step - loss: 0.1308 - acc: 0.9559 - val_loss: 0.8739 - val_acc: 0.7010\n",
      "Epoch 45/150\n",
      "2380/2380 [==============================] - 60s 25ms/step - loss: 0.1248 - acc: 0.9605 - val_loss: 0.8152 - val_acc: 0.7020\n",
      "Epoch 46/150\n",
      "2380/2380 [==============================] - 61s 26ms/step - loss: 0.1233 - acc: 0.9546 - val_loss: 0.8623 - val_acc: 0.7059\n",
      "Epoch 47/150\n",
      "1536/2380 [==================>...........] - ETA: 18s - loss: 0.1040 - acc: 0.9701"
     ]
    }
   ],
   "source": [
    "model = get_VGG16()\n",
    "history = model.fit(X_train, y_train, batch_size=64, epochs=150,\n",
    "          verbose=1, validation_data=(X_test, y_test))"
   ]
  },
  {
   "cell_type": "code",
   "execution_count": null,
   "metadata": {},
   "outputs": [],
   "source": [
    "plot_history(history)"
   ]
  },
  {
   "cell_type": "markdown",
   "metadata": {},
   "source": [
    "## 2"
   ]
  },
  {
   "cell_type": "code",
   "execution_count": null,
   "metadata": {
    "code_folding": [
     1,
     9
    ],
    "collapsed": true
   },
   "outputs": [],
   "source": [
    "from keras.layers import Lambda,GlobalAveragePooling2D\n",
    "def ConvBlock(model, layers, filters):\n",
    "    '''Create [layers] layers consisting of zero padding, a convolution with [filters] 3x3 filters and batch normalization. Perform max pooling after the last layer.'''\n",
    "    for i in range(layers):\n",
    "        model.add(ZeroPadding2D((1, 1)))\n",
    "        model.add(Conv2D(filters, (3, 3), activation='relu'))\n",
    "        model.add(BatchNormalization(axis=3))\n",
    "    model.add(MaxPooling2D((2, 2), strides=(2, 2)))\n",
    "    \n",
    "def create_model():\n",
    "    '''Create the FCN and return a keras model.'''\n",
    "\n",
    "    model = Sequential()\n",
    "\n",
    "    # Input image: 75x75x3\n",
    "    model.add(Lambda(lambda x: x, input_shape=IMG_SIZE))\n",
    "    ConvBlock(model, 1, 32)\n",
    "    # 37x37x32\n",
    "    ConvBlock(model, 1, 64)\n",
    "    # 18x18x64\n",
    "    ConvBlock(model, 1, 128)\n",
    "    # 9x9x128\n",
    "    ConvBlock(model, 1, 128)\n",
    "    # 4x4x128\n",
    "    model.add(ZeroPadding2D((1, 1)))\n",
    "    model.add(Conv2D(2, (3, 3), activation='relu'))\n",
    "    model.add(GlobalAveragePooling2D())\n",
    "    # 4x4x2\n",
    "    model.add(Activation('softmax'))\n",
    "    model.compile(loss='categorical_crossentropy', optimizer=Adam(lr=0.0001), metrics=['accuracy'])\n",
    "\n",
    "    return model\n"
   ]
  },
  {
   "cell_type": "code",
   "execution_count": null,
   "metadata": {},
   "outputs": [],
   "source": [
    "model = create_model()\n",
    "history = model.fit(X_train, y_train, batch_size=32, epochs=150,\n",
    "          verbose=1, validation_data=(X_test, y_test))"
   ]
  },
  {
   "cell_type": "code",
   "execution_count": null,
   "metadata": {
    "collapsed": true
   },
   "outputs": [],
   "source": [
    "plot_history(history)"
   ]
  },
  {
   "cell_type": "markdown",
   "metadata": {},
   "source": [
    "## 3"
   ]
  },
  {
   "cell_type": "code",
   "execution_count": null,
   "metadata": {
    "code_folding": [
     0
    ]
   },
   "outputs": [],
   "source": [
    "def getModel():\n",
    "    #Build keras model\n",
    "    \n",
    "    model=Sequential()\n",
    "    \n",
    "    # CNN 1\n",
    "    model.add(Conv2D(64, kernel_size=(3, 3),activation='relu', input_shape=IMG_SIZE))\n",
    "    model.add(MaxPooling2D(pool_size=(3, 3), strides=(2, 2)))\n",
    "    model.add(Dropout(0.2))\n",
    "\n",
    "    # CNN 2\n",
    "    model.add(Conv2D(128, kernel_size=(3, 3), activation='relu' ))\n",
    "    model.add(MaxPooling2D(pool_size=(2, 2), strides=(2, 2)))\n",
    "    model.add(Dropout(0.2))\n",
    "\n",
    "    # CNN 3\n",
    "    model.add(Conv2D(128, kernel_size=(3, 3), activation='relu'))\n",
    "    model.add(MaxPooling2D(pool_size=(2, 2), strides=(2, 2)))\n",
    "    model.add(Dropout(0.2))\n",
    "\n",
    "    #CNN 4\n",
    "    model.add(Conv2D(64, kernel_size=(3, 3), activation='relu'))\n",
    "    model.add(MaxPooling2D(pool_size=(2, 2), strides=(2, 2)))\n",
    "    model.add(Dropout(0.2))\n",
    "\n",
    "    # You must flatten the data for the dense layers\n",
    "    model.add(Flatten())\n",
    "\n",
    "    #Dense 1\n",
    "    model.add(Dense(512, activation='relu'))\n",
    "    model.add(Dropout(0.2))\n",
    "\n",
    "    #Dense 2\n",
    "    model.add(Dense(256, activation='relu'))\n",
    "    model.add(Dropout(0.2))\n",
    "\n",
    "    # Output \n",
    "    model.add(Dense(1, activation=\"sigmoid\"))\n",
    "\n",
    "    optimizer = Adam(lr=0.001, decay=0.0)\n",
    "    model.compile(loss='binary_crossentropy', optimizer=optimizer, metrics=['accuracy'])\n",
    "    \n",
    "    return model\n",
    "\n",
    "model = getModel()\n",
    "# batch_size = 32\n",
    "# earlyStopping = EarlyStopping(monitor='val_loss', patience=10, verbose=0, mode='min')\n",
    "# mcp_save = ModelCheckpoint('.mdl_wts.hdf5', save_best_only=True, monitor='val_loss', mode='min')\n",
    "# reduce_lr_loss = ReduceLROnPlateau(monitor='val_loss', factor=0.1, patience=7, verbose=1, epsilon=1e-4, mode='min')\n",
    "\n",
    "history = model.fit(X_train, y_train[:,1], batch_size=64, epochs=150,\n",
    "          verbose=1, validation_data=(X_test, y_test[:,1]))"
   ]
  },
  {
   "cell_type": "code",
   "execution_count": null,
   "metadata": {
    "collapsed": true
   },
   "outputs": [],
   "source": [
    "plot_history(history)"
   ]
  },
  {
   "cell_type": "markdown",
   "metadata": {},
   "source": [
    "## 4"
   ]
  },
  {
   "cell_type": "code",
   "execution_count": null,
   "metadata": {
    "code_folding": [
     0
    ],
    "collapsed": true
   },
   "outputs": [],
   "source": [
    "def get_model_notebook( relu_type='relu'):\n",
    "    # angle variable defines if we should use angle parameter or ignore it\n",
    "    input_1 = Input(shape=IMG_SIZE)\n",
    "\n",
    "    fcnn = Conv2D(32, kernel_size=(3, 3), activation=relu_type)(\n",
    "        BatchNormalization()(input_1))\n",
    "    fcnn = MaxPooling2D((3, 3))(fcnn)\n",
    "    fcnn = Dropout(0.2)(fcnn)\n",
    "    fcnn = Conv2D(64, kernel_size=(3, 3), activation=relu_type)(fcnn)\n",
    "    fcnn = MaxPooling2D((2, 2), strides=(2, 2))(fcnn)\n",
    "    fcnn = Dropout(0.2)(fcnn)\n",
    "    fcnn = Conv2D(128, kernel_size=(3, 3), activation=relu_type)(fcnn)\n",
    "    fcnn = MaxPooling2D((2, 2), strides=(2, 2))(fcnn)\n",
    "    fcnn = Dropout(0.2)(fcnn)\n",
    "    fcnn = Conv2D(128, kernel_size=(3, 3), activation=relu_type)(fcnn)\n",
    "    fcnn = MaxPooling2D((2, 2), strides=(2, 2))(fcnn)\n",
    "    fcnn = Dropout(0.2)(fcnn)\n",
    "    fcnn = BatchNormalization()(fcnn)\n",
    "    fcnn = Flatten()(fcnn)\n",
    "    local_input = input_1\n",
    "    partial_model = Model(input_1, fcnn)\n",
    "    dense = Dropout(0.2)(fcnn)\n",
    "    dense = Dense(256, activation=relu_type)(dense)\n",
    "    dense = Dropout(0.2)(dense)\n",
    "    dense = Dense(128, activation=relu_type)(dense)\n",
    "    dense = Dropout(0.2)(dense)\n",
    "    dense = Dense(64, activation=relu_type)(dense)\n",
    "    dense = Dropout(0.2)(dense)\n",
    "    # For some reason i've decided not to normalize angle data\n",
    "    output = Dense(1, activation=\"sigmoid\")(dense)\n",
    "    model = Model(local_input, output)\n",
    "    optimizer = Adam(lr=0.001, decay=0.001)\n",
    "    model.compile(loss=\"binary_crossentropy\", optimizer=optimizer, metrics=[\"accuracy\"])\n",
    "    return model #, partial_model"
   ]
  },
  {
   "cell_type": "code",
   "execution_count": null,
   "metadata": {},
   "outputs": [],
   "source": [
    "model = get_model_notebook()\n",
    "history = model.fit(X_train, y_train[:,1], batch_size=64, epochs=150,\n",
    "          verbose=1, validation_data=(X_test, y_test[:,1]))"
   ]
  },
  {
   "cell_type": "code",
   "execution_count": null,
   "metadata": {
    "collapsed": true
   },
   "outputs": [],
   "source": [
    "plot_history(history)"
   ]
  },
  {
   "cell_type": "code",
   "execution_count": null,
   "metadata": {
    "collapsed": true
   },
   "outputs": [],
   "source": []
  },
  {
   "cell_type": "code",
   "execution_count": null,
   "metadata": {
    "code_folding": [
     0
    ],
    "collapsed": true
   },
   "outputs": [],
   "source": [
    "def LeNet_model():\n",
    "    model = Sequential()\n",
    "\n",
    "    model.add(Conv2D(6, (5, 5), input_shape = IMG_SIZE))\n",
    "    model.add(MaxPooling2D(pool_size=(2, 2)))\n",
    "    model.add(Activation(\"sigmoid\"))\n",
    "\n",
    "    model.add(Conv2D(16, (3, 3), padding='valid'))\n",
    "    model.add(MaxPooling2D(pool_size=(2, 2)))\n",
    "    model.add(Activation(\"sigmoid\"))\n",
    "\n",
    "    model.add(Conv2D(120, (1, 1), padding='valid'))\n",
    "\n",
    "    model.add(Flatten())\n",
    "    model.add(Dense(200))\n",
    "    model.add(Activation(\"sigmoid\"))\n",
    "    model.add(Dense(2))\n",
    "    model.add(Activation('softmax'))\n",
    "\n",
    "    model.compile(loss='categorical_crossentropy', metrics=['accuracy'], optimizer=Adam())\n",
    "    return model"
   ]
  },
  {
   "cell_type": "code",
   "execution_count": null,
   "metadata": {},
   "outputs": [],
   "source": [
    "model = LeNet_model()\n",
    "history = model.fit(X_train, y_train, batch_size=32, epochs=200,\n",
    "          verbose=1, validation_data=(X_test, y_test))"
   ]
  },
  {
   "cell_type": "code",
   "execution_count": null,
   "metadata": {
    "collapsed": true
   },
   "outputs": [],
   "source": [
    "plot_history(history)"
   ]
  },
  {
   "cell_type": "code",
   "execution_count": null,
   "metadata": {
    "collapsed": true
   },
   "outputs": [],
   "source": []
  },
  {
   "cell_type": "markdown",
   "metadata": {},
   "source": [
    "## 1"
   ]
  },
  {
   "cell_type": "code",
   "execution_count": null,
   "metadata": {
    "code_folding": [
     2
    ],
    "collapsed": true
   },
   "outputs": [],
   "source": [
    "from keras.layers import Input, GlobalMaxPooling2D, concatenate, Concatenate\n",
    "from keras.applications import VGG16\n",
    "def getVggAngleModel():\n",
    "\n",
    "    base_model = VGG16(weights='imagenet', include_top=False, \n",
    "                 input_shape=IMG_SIZE, classes=1)\n",
    "    x = base_model.get_layer('block5_pool').output\n",
    "    \n",
    "\n",
    "    x = GlobalMaxPooling2D()(x)\n",
    "   \n",
    "    x = Dense(512, activation='relu', name='fc2')(x)\n",
    "    x = Dropout(0.3)(x)\n",
    "    x = Dense(512, activation='relu', name='fc3')(x)\n",
    "    x = Dropout(0.3)(x)\n",
    "    \n",
    "    predictions = Dense(1, activation='sigmoid')(x)\n",
    "    \n",
    "    model = Model(inputs=[base_model.input], outputs=predictions)\n",
    "    \n",
    "    sgd = SGD(lr=1e-3, decay=1e-6, momentum=0.9, nesterov=True)\n",
    "    model.compile(loss='binary_crossentropy',\n",
    "                  optimizer=sgd,\n",
    "                  metrics=['accuracy'])\n",
    "    return model"
   ]
  },
  {
   "cell_type": "code",
   "execution_count": null,
   "metadata": {
    "collapsed": true
   },
   "outputs": [],
   "source": [
    "model = getVggAngleModel()"
   ]
  },
  {
   "cell_type": "code",
   "execution_count": null,
   "metadata": {
    "code_folding": []
   },
   "outputs": [],
   "source": [
    "history = model.fit(X_train, y_train[:,1], batch_size=32, epochs=60,\n",
    "          verbose=1, validation_data=(X_test, y_test[:,1]))"
   ]
  },
  {
   "cell_type": "code",
   "execution_count": null,
   "metadata": {
    "collapsed": true
   },
   "outputs": [],
   "source": [
    "plot_history(history)"
   ]
  },
  {
   "cell_type": "code",
   "execution_count": null,
   "metadata": {
    "collapsed": true
   },
   "outputs": [],
   "source": []
  },
  {
   "cell_type": "code",
   "execution_count": null,
   "metadata": {
    "code_folding": [
     0
    ],
    "collapsed": true
   },
   "outputs": [],
   "source": [
    "def LeNetPlus():\n",
    "    model = Sequential()\n",
    "\n",
    "    # Layer 1\n",
    "    model.add(Conv2D(96, (11, 11), input_shape = IMG_SIZE, padding='same'))\n",
    "    model.add(Activation('relu'))\n",
    "    model.add(MaxPooling2D(pool_size=(2, 2)))\n",
    "\n",
    "    # Layer 2\n",
    "    model.add(Conv2D(256, (5, 5), padding='same'))\n",
    "    model.add(Activation('relu'))\n",
    "    model.add(MaxPooling2D(pool_size=(2, 2)))\n",
    "\n",
    "    # Layer 3\n",
    "    model.add(ZeroPadding2D((1,1)))\n",
    "    model.add(Conv2D(512, (3, 3), padding='same'))\n",
    "    model.add(Activation('relu'))\n",
    "\n",
    "\n",
    "    # Layer 6\n",
    "    model.add(Flatten())\n",
    "    model.add(Dense(1024, kernel_initializer='glorot_normal'))\n",
    "    model.add(Activation('relu'))\n",
    "    model.add(Dropout(0.5))\n",
    "\n",
    "    # Layer 8\n",
    "    model.add(Dense(2, kernel_initializer='glorot_normal'))\n",
    "    model.add(Activation('softmax'))\n",
    "\n",
    "    model.compile(loss='categorical_crossentropy', optimizer=RMSprop(),metrics=['accuracy'])\n",
    "    return model"
   ]
  },
  {
   "cell_type": "code",
   "execution_count": null,
   "metadata": {},
   "outputs": [],
   "source": [
    "model = LeNetPlus()\n",
    "\n",
    "model.fit(X_train, y_train, batch_size=12, epochs=150,\n",
    "          verbose=1, validation_data=(X_test, y_test))"
   ]
  },
  {
   "cell_type": "code",
   "execution_count": null,
   "metadata": {
    "collapsed": true
   },
   "outputs": [],
   "source": [
    "plot_history(history)"
   ]
  },
  {
   "cell_type": "code",
   "execution_count": null,
   "metadata": {
    "collapsed": true
   },
   "outputs": [],
   "source": []
  },
  {
   "cell_type": "code",
   "execution_count": null,
   "metadata": {
    "collapsed": true
   },
   "outputs": [],
   "source": []
  },
  {
   "cell_type": "code",
   "execution_count": null,
   "metadata": {
    "collapsed": true
   },
   "outputs": [],
   "source": []
  },
  {
   "cell_type": "code",
   "execution_count": null,
   "metadata": {
    "collapsed": true
   },
   "outputs": [],
   "source": []
  },
  {
   "cell_type": "code",
   "execution_count": null,
   "metadata": {
    "collapsed": true
   },
   "outputs": [],
   "source": []
  },
  {
   "cell_type": "code",
   "execution_count": null,
   "metadata": {
    "collapsed": true
   },
   "outputs": [],
   "source": []
  },
  {
   "cell_type": "code",
   "execution_count": null,
   "metadata": {
    "collapsed": true
   },
   "outputs": [],
   "source": []
  },
  {
   "cell_type": "code",
   "execution_count": null,
   "metadata": {
    "collapsed": true
   },
   "outputs": [],
   "source": []
  },
  {
   "cell_type": "code",
   "execution_count": null,
   "metadata": {
    "collapsed": true
   },
   "outputs": [],
   "source": []
  },
  {
   "cell_type": "code",
   "execution_count": null,
   "metadata": {
    "collapsed": true
   },
   "outputs": [
    {
     "name": "stdout",
     "output_type": "stream",
     "text": [
      "Train on 5068 samples, validate on 2173 samples\n",
      "Epoch 1/150\n",
      "5068/5068 [==============================] - 6s 1ms/step - loss: 0.5904 - acc: 0.7516 - val_loss: 0.5401 - val_acc: 0.7644\n",
      "Epoch 2/150\n",
      "5068/5068 [==============================] - 5s 1ms/step - loss: 0.5457 - acc: 0.7656 - val_loss: 0.5361 - val_acc: 0.7644\n",
      "Epoch 3/150\n",
      "5068/5068 [==============================] - 5s 1ms/step - loss: 0.5338 - acc: 0.7654 - val_loss: 0.5145 - val_acc: 0.7644\n",
      "Epoch 4/150\n",
      "5068/5068 [==============================] - 5s 1ms/step - loss: 0.5327 - acc: 0.7650 - val_loss: 0.5125 - val_acc: 0.7644\n",
      "Epoch 5/150\n",
      "5068/5068 [==============================] - 5s 1ms/step - loss: 0.5238 - acc: 0.7658 - val_loss: 0.5225 - val_acc: 0.7635\n",
      "Epoch 6/150\n",
      "5068/5068 [==============================] - 5s 1ms/step - loss: 0.5231 - acc: 0.7636 - val_loss: 0.5067 - val_acc: 0.7644\n",
      "Epoch 7/150\n",
      "5068/5068 [==============================] - 6s 1ms/step - loss: 0.5179 - acc: 0.7648 - val_loss: 0.4967 - val_acc: 0.7644\n",
      "Epoch 8/150\n",
      "5068/5068 [==============================] - 5s 1ms/step - loss: 0.5130 - acc: 0.7650 - val_loss: 0.4972 - val_acc: 0.7644\n",
      "Epoch 9/150\n",
      "5068/5068 [==============================] - 5s 1ms/step - loss: 0.5093 - acc: 0.7676 - val_loss: 0.4963 - val_acc: 0.7644\n",
      "Epoch 10/150\n",
      "5068/5068 [==============================] - 5s 1ms/step - loss: 0.5092 - acc: 0.7693 - val_loss: 0.4933 - val_acc: 0.7644\n",
      "Epoch 11/150\n",
      "5068/5068 [==============================] - 6s 1ms/step - loss: 0.5055 - acc: 0.7656 - val_loss: 0.4931 - val_acc: 0.7658\n",
      "Epoch 12/150\n",
      "5068/5068 [==============================] - 5s 1ms/step - loss: 0.5052 - acc: 0.7670 - val_loss: 0.4929 - val_acc: 0.7653\n",
      "Epoch 13/150\n",
      "5068/5068 [==============================] - 5s 1ms/step - loss: 0.4993 - acc: 0.7691 - val_loss: 0.4851 - val_acc: 0.7768\n",
      "Epoch 14/150\n",
      "5068/5068 [==============================] - 5s 1ms/step - loss: 0.5004 - acc: 0.7727 - val_loss: 0.4855 - val_acc: 0.7763\n",
      "Epoch 15/150\n",
      "5068/5068 [==============================] - 5s 1ms/step - loss: 0.4969 - acc: 0.7735 - val_loss: 0.4933 - val_acc: 0.7694\n",
      "Epoch 16/150\n",
      "5068/5068 [==============================] - 5s 1ms/step - loss: 0.4944 - acc: 0.7782 - val_loss: 0.4849 - val_acc: 0.7915\n",
      "Epoch 17/150\n",
      "5068/5068 [==============================] - 5s 1ms/step - loss: 0.4960 - acc: 0.7782 - val_loss: 0.4802 - val_acc: 0.7906\n",
      "Epoch 18/150\n",
      "5068/5068 [==============================] - 5s 1ms/step - loss: 0.4922 - acc: 0.7808 - val_loss: 0.4818 - val_acc: 0.7897\n",
      "Epoch 19/150\n",
      "5068/5068 [==============================] - 5s 1ms/step - loss: 0.4916 - acc: 0.7768 - val_loss: 0.4765 - val_acc: 0.7823\n",
      "Epoch 20/150\n",
      "5068/5068 [==============================] - 5s 1ms/step - loss: 0.4873 - acc: 0.7835 - val_loss: 0.4707 - val_acc: 0.7957\n",
      "Epoch 21/150\n",
      "5068/5068 [==============================] - 5s 1ms/step - loss: 0.4903 - acc: 0.7798 - val_loss: 0.4712 - val_acc: 0.7938\n",
      "Epoch 22/150\n",
      "5068/5068 [==============================] - 5s 1ms/step - loss: 0.4833 - acc: 0.7867 - val_loss: 0.4709 - val_acc: 0.7952\n",
      "Epoch 23/150\n",
      "5068/5068 [==============================] - 5s 1ms/step - loss: 0.4814 - acc: 0.7881 - val_loss: 0.4691 - val_acc: 0.7929\n",
      "Epoch 24/150\n",
      "5068/5068 [==============================] - 5s 1ms/step - loss: 0.4789 - acc: 0.7940 - val_loss: 0.4609 - val_acc: 0.8007\n",
      "Epoch 25/150\n",
      "5068/5068 [==============================] - 5s 1ms/step - loss: 0.4756 - acc: 0.7948 - val_loss: 0.4607 - val_acc: 0.8021\n",
      "Epoch 26/150\n",
      "5068/5068 [==============================] - 5s 1ms/step - loss: 0.4753 - acc: 0.7958 - val_loss: 0.4571 - val_acc: 0.7994\n",
      "Epoch 27/150\n",
      "5068/5068 [==============================] - 5s 1ms/step - loss: 0.4701 - acc: 0.7962 - val_loss: 0.4609 - val_acc: 0.7975\n",
      "Epoch 28/150\n",
      "5068/5068 [==============================] - 5s 1ms/step - loss: 0.4663 - acc: 0.8005 - val_loss: 0.4574 - val_acc: 0.8017\n",
      "Epoch 29/150\n",
      "5068/5068 [==============================] - 5s 1ms/step - loss: 0.4699 - acc: 0.7940 - val_loss: 0.4637 - val_acc: 0.8003\n",
      "Epoch 30/150\n",
      "5068/5068 [==============================] - 5s 1ms/step - loss: 0.4613 - acc: 0.8072 - val_loss: 0.4674 - val_acc: 0.7975\n",
      "Epoch 31/150\n",
      "5068/5068 [==============================] - 5s 1ms/step - loss: 0.4596 - acc: 0.8005 - val_loss: 0.4577 - val_acc: 0.8035\n",
      "Epoch 32/150\n",
      "5068/5068 [==============================] - 5s 1ms/step - loss: 0.4600 - acc: 0.8031 - val_loss: 0.4520 - val_acc: 0.8021\n",
      "Epoch 33/150\n",
      "5068/5068 [==============================] - 5s 1ms/step - loss: 0.4579 - acc: 0.8049 - val_loss: 0.4563 - val_acc: 0.8090\n",
      "Epoch 34/150\n",
      "5068/5068 [==============================] - 5s 1ms/step - loss: 0.4541 - acc: 0.8031 - val_loss: 0.4565 - val_acc: 0.8086\n",
      "Epoch 35/150\n",
      "5068/5068 [==============================] - 5s 1ms/step - loss: 0.4540 - acc: 0.8047 - val_loss: 0.4537 - val_acc: 0.8109\n",
      "Epoch 36/150\n",
      "5068/5068 [==============================] - 5s 1ms/step - loss: 0.4533 - acc: 0.8080 - val_loss: 0.4519 - val_acc: 0.8109\n",
      "Epoch 37/150\n",
      "5068/5068 [==============================] - 5s 1ms/step - loss: 0.4550 - acc: 0.8054 - val_loss: 0.4491 - val_acc: 0.8095\n",
      "Epoch 38/150\n",
      "5068/5068 [==============================] - 5s 1ms/step - loss: 0.4511 - acc: 0.8072 - val_loss: 0.4521 - val_acc: 0.8086\n",
      "Epoch 39/150\n",
      "5068/5068 [==============================] - 5s 1ms/step - loss: 0.4450 - acc: 0.8143 - val_loss: 0.4602 - val_acc: 0.8076\n",
      "Epoch 40/150\n",
      "5068/5068 [==============================] - 5s 1ms/step - loss: 0.4463 - acc: 0.8114 - val_loss: 0.4544 - val_acc: 0.8072\n",
      "Epoch 41/150\n",
      "5068/5068 [==============================] - 7s 1ms/step - loss: 0.4464 - acc: 0.8076 - val_loss: 0.4610 - val_acc: 0.7943\n",
      "Epoch 42/150\n",
      "5068/5068 [==============================] - 5s 1ms/step - loss: 0.4438 - acc: 0.8118 - val_loss: 0.4624 - val_acc: 0.8067\n",
      "Epoch 43/150\n",
      "5068/5068 [==============================] - 5s 1ms/step - loss: 0.4359 - acc: 0.8118 - val_loss: 0.4534 - val_acc: 0.8076\n",
      "Epoch 44/150\n",
      "5068/5068 [==============================] - 5s 1ms/step - loss: 0.4402 - acc: 0.8112 - val_loss: 0.4576 - val_acc: 0.8081\n",
      "Epoch 45/150\n",
      "5068/5068 [==============================] - 5s 1ms/step - loss: 0.4361 - acc: 0.8129 - val_loss: 0.4535 - val_acc: 0.8090\n",
      "Epoch 46/150\n",
      "5068/5068 [==============================] - 5s 1ms/step - loss: 0.4310 - acc: 0.8163 - val_loss: 0.4629 - val_acc: 0.8072\n",
      "Epoch 47/150\n",
      "5068/5068 [==============================] - 5s 1ms/step - loss: 0.4347 - acc: 0.8139 - val_loss: 0.4543 - val_acc: 0.8132\n",
      "Epoch 48/150\n",
      "5068/5068 [==============================] - 5s 1ms/step - loss: 0.4343 - acc: 0.8157 - val_loss: 0.4546 - val_acc: 0.8086\n",
      "Epoch 49/150\n",
      "5068/5068 [==============================] - 5s 1ms/step - loss: 0.4334 - acc: 0.8159 - val_loss: 0.4604 - val_acc: 0.8104\n",
      "Epoch 50/150\n",
      "5068/5068 [==============================] - 5s 1ms/step - loss: 0.4321 - acc: 0.8173 - val_loss: 0.4569 - val_acc: 0.8132\n",
      "Epoch 51/150\n",
      "5068/5068 [==============================] - 5s 1ms/step - loss: 0.4290 - acc: 0.8145 - val_loss: 0.4547 - val_acc: 0.8136\n",
      "Epoch 52/150\n",
      "5068/5068 [==============================] - 5s 1ms/step - loss: 0.4233 - acc: 0.8189 - val_loss: 0.4627 - val_acc: 0.8104\n",
      "Epoch 53/150\n",
      "5068/5068 [==============================] - 5s 1ms/step - loss: 0.4217 - acc: 0.8175 - val_loss: 0.4613 - val_acc: 0.8113\n",
      "Epoch 54/150\n",
      "5068/5068 [==============================] - 5s 1ms/step - loss: 0.4215 - acc: 0.8187 - val_loss: 0.4610 - val_acc: 0.8127\n",
      "Epoch 55/150\n",
      "5068/5068 [==============================] - 5s 1ms/step - loss: 0.4215 - acc: 0.8191 - val_loss: 0.4568 - val_acc: 0.8099\n",
      "Epoch 56/150\n",
      "5068/5068 [==============================] - 5s 1ms/step - loss: 0.4226 - acc: 0.8185 - val_loss: 0.4624 - val_acc: 0.8127\n",
      "Epoch 57/150\n",
      "5068/5068 [==============================] - 5s 1ms/step - loss: 0.4203 - acc: 0.8258 - val_loss: 0.4579 - val_acc: 0.8081\n",
      "Epoch 58/150\n",
      "5068/5068 [==============================] - 5s 1ms/step - loss: 0.4194 - acc: 0.8191 - val_loss: 0.4594 - val_acc: 0.8086\n",
      "Epoch 59/150\n",
      "5068/5068 [==============================] - 5s 1ms/step - loss: 0.4081 - acc: 0.8262 - val_loss: 0.4610 - val_acc: 0.8058\n",
      "Epoch 60/150\n",
      "5068/5068 [==============================] - 5s 1ms/step - loss: 0.4086 - acc: 0.8228 - val_loss: 0.4667 - val_acc: 0.8099\n"
     ]
    },
    {
     "name": "stdout",
     "output_type": "stream",
     "text": [
      "Epoch 61/150\n",
      "5068/5068 [==============================] - 5s 1ms/step - loss: 0.4079 - acc: 0.8270 - val_loss: 0.4701 - val_acc: 0.8141\n",
      "Epoch 62/150\n",
      "5068/5068 [==============================] - 5s 1ms/step - loss: 0.4102 - acc: 0.8252 - val_loss: 0.4686 - val_acc: 0.8007\n",
      "Epoch 63/150\n",
      "5068/5068 [==============================] - 5s 1ms/step - loss: 0.4020 - acc: 0.8287 - val_loss: 0.4714 - val_acc: 0.8003\n",
      "Epoch 64/150\n",
      "5068/5068 [==============================] - 5s 1ms/step - loss: 0.4027 - acc: 0.8193 - val_loss: 0.4674 - val_acc: 0.8063\n",
      "Epoch 65/150\n",
      "5068/5068 [==============================] - 5s 1ms/step - loss: 0.4020 - acc: 0.8236 - val_loss: 0.4644 - val_acc: 0.8118\n",
      "Epoch 66/150\n",
      "5068/5068 [==============================] - 5s 1ms/step - loss: 0.4080 - acc: 0.8270 - val_loss: 0.4657 - val_acc: 0.8104\n",
      "Epoch 67/150\n",
      "5068/5068 [==============================] - 5s 1ms/step - loss: 0.4015 - acc: 0.8289 - val_loss: 0.4648 - val_acc: 0.8113\n",
      "Epoch 68/150\n",
      "5068/5068 [==============================] - 5s 1ms/step - loss: 0.3973 - acc: 0.8242 - val_loss: 0.4661 - val_acc: 0.8058\n",
      "Epoch 69/150\n",
      "5068/5068 [==============================] - 5s 1ms/step - loss: 0.3998 - acc: 0.8323 - val_loss: 0.4590 - val_acc: 0.8072\n",
      "Epoch 70/150\n",
      "5068/5068 [==============================] - 5s 1ms/step - loss: 0.3953 - acc: 0.8319 - val_loss: 0.4597 - val_acc: 0.8099\n",
      "Epoch 71/150\n",
      "5068/5068 [==============================] - 5s 1ms/step - loss: 0.3941 - acc: 0.8266 - val_loss: 0.4692 - val_acc: 0.8067\n",
      "Epoch 72/150\n",
      "5068/5068 [==============================] - 5s 1ms/step - loss: 0.3898 - acc: 0.8343 - val_loss: 0.4644 - val_acc: 0.8058\n",
      "Epoch 73/150\n",
      "5068/5068 [==============================] - 5s 1ms/step - loss: 0.3888 - acc: 0.8303 - val_loss: 0.4770 - val_acc: 0.7966\n",
      "Epoch 74/150\n",
      "5068/5068 [==============================] - 5s 1ms/step - loss: 0.3891 - acc: 0.8345 - val_loss: 0.4671 - val_acc: 0.8053\n",
      "Epoch 75/150\n",
      "5068/5068 [==============================] - 5s 1ms/step - loss: 0.3853 - acc: 0.8380 - val_loss: 0.4668 - val_acc: 0.8040\n",
      "Epoch 76/150\n",
      "5068/5068 [==============================] - 5s 1ms/step - loss: 0.3866 - acc: 0.8374 - val_loss: 0.4699 - val_acc: 0.7980\n",
      "Epoch 77/150\n",
      "4960/5068 [============================>.] - ETA: 0s - loss: 0.3851 - acc: 0.8403"
     ]
    }
   ],
   "source": [
    "model = LeNetPlus()\n",
    "\n",
    "model.fit(X_train, y_train, batch_size=32, epochs=150,\n",
    "          verbose=1, validation_data=(X_test, y_test))"
   ]
  },
  {
   "cell_type": "code",
   "execution_count": 43,
   "metadata": {
    "code_folding": [
     0
    ]
   },
   "outputs": [
    {
     "ename": "SyntaxError",
     "evalue": "invalid syntax (<ipython-input-43-acc0b8ab4abf>, line 1)",
     "output_type": "error",
     "traceback": [
      "\u001b[1;36m  File \u001b[1;32m\"<ipython-input-43-acc0b8ab4abf>\"\u001b[1;36m, line \u001b[1;32m1\u001b[0m\n\u001b[1;33m    def AlexNet()\u001b[0m\n\u001b[1;37m                 ^\u001b[0m\n\u001b[1;31mSyntaxError\u001b[0m\u001b[1;31m:\u001b[0m invalid syntax\n"
     ]
    }
   ],
   "source": [
    "def AlexNet():\n",
    "    model = Sequential()\n",
    "    model.add(ZeroPadding2D((1,1),input_shape=(197,197,3)))\n",
    "    model.add(Convolution2D(64, 3, 3, activation='relu'))\n",
    "    model.add(ZeroPadding2D((1,1)))\n",
    "    model.add(Convolution2D(64, 3, 3, activation='relu'))\n",
    "    model.add(MaxPooling2D((2,2), strides=(2,2)))\n",
    "\n",
    "    # model.add(ZeroPadding2D((1,1)))\n",
    "    # model.add(Convolution2D(128, 3, 3, activation='relu'))\n",
    "    # model.add(ZeroPadding2D((1,1)))\n",
    "    # model.add(Convolution2D(128, 3, 3, activation='relu'))\n",
    "    # model.add(MaxPooling2D((2,2), strides=(2,2)))\n",
    "\n",
    "    model.add(ZeroPadding2D((1,1)))\n",
    "    model.add(Convolution2D(256, 3, 3, activation='relu'))\n",
    "    model.add(ZeroPadding2D((1,1)))\n",
    "    model.add(Convolution2D(256, 3, 3, activation='relu'))\n",
    "    model.add(ZeroPadding2D((1,1)))\n",
    "    model.add(Convolution2D(256, 3, 3, activation='relu'))\n",
    "    model.add(ZeroPadding2D((1,1)))\n",
    "    model.add(Convolution2D(256, 3, 3, activation='relu'))\n",
    "    model.add(MaxPooling2D((2,2), strides=(2,2)))\n",
    "\n",
    "    # model.add(ZeroPadding2D((1,1)))\n",
    "    # model.add(Convolution2D(512, 3, 3, activation='relu'))\n",
    "    # model.add(ZeroPadding2D((1,1)))\n",
    "    # model.add(Convolution2D(512, 3, 3, activation='relu'))\n",
    "    # model.add(ZeroPadding2D((1,1)))\n",
    "    # model.add(Convolution2D(512, 3, 3, activation='relu'))\n",
    "    # model.add(ZeroPadding2D((1,1)))\n",
    "    # model.add(Convolution2D(512, 3, 3, activation='relu'))\n",
    "    # model.add(MaxPooling2D((2,2), strides=(2,2)))\n",
    "\n",
    "    # model.add(ZeroPadding2D((1,1)))\n",
    "    # model.add(Convolution2D(512, 3, 3, activation='relu'))\n",
    "    # model.add(ZeroPadding2D((1,1)))\n",
    "    # model.add(Convolution2D(512, 3, 3, activation='relu'))\n",
    "    # model.add(ZeroPadding2D((1,1)))\n",
    "    # model.add(Convolution2D(512, 3, 3, activation='relu'))\n",
    "    # model.add(ZeroPadding2D((1,1)))\n",
    "    # model.add(Convolution2D(512, 3, 3, activation='relu'))\n",
    "    # model.add(MaxPooling2D((2,2), strides=(2,2)))\n",
    "\n",
    "    model.add(Flatten())\n",
    "    # model.add(Dense(1024, activation='relu'))\n",
    "    # model.add(Dropout(0.5))\n",
    "    model.add(Dense(512, activation='relu'))\n",
    "    model.add(Dropout(0.5))\n",
    "    model.add(Dense(2, activation='softmax'))\n",
    "\n",
    "    sgd = SGD(lr=0.1, decay=1e-6, momentum=0.9, nesterov=True)\n",
    "    model.compile(optimizer=sgd, loss='categorical_crossentropy',metrics=['accuracy'])\n",
    "    return model"
   ]
  },
  {
   "cell_type": "code",
   "execution_count": null,
   "metadata": {},
   "outputs": [
    {
     "name": "stdout",
     "output_type": "stream",
     "text": [
      "Train on 5068 samples, validate on 2173 samples\n",
      "Epoch 1/2\n"
     ]
    }
   ],
   "source": [
    "model.fit(X_train, y_train, batch_size=32, epochs=2,\n",
    "          verbose=1, validation_data=(X_test, y_test))"
   ]
  },
  {
   "cell_type": "code",
   "execution_count": null,
   "metadata": {
    "collapsed": true
   },
   "outputs": [],
   "source": []
  }
 ],
 "metadata": {
  "kernelspec": {
   "display_name": "Python 3",
   "language": "python",
   "name": "python3"
  },
  "language_info": {
   "codemirror_mode": {
    "name": "ipython",
    "version": 3
   },
   "file_extension": ".py",
   "mimetype": "text/x-python",
   "name": "python",
   "nbconvert_exporter": "python",
   "pygments_lexer": "ipython3",
   "version": "3.6.3"
  }
 },
 "nbformat": 4,
 "nbformat_minor": 2
}
