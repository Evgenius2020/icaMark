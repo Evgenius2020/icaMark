{
 "cells": [
  {
   "cell_type": "code",
   "execution_count": 1,
   "metadata": {
    "collapsed": true
   },
   "outputs": [],
   "source": [
    "import cv2\n",
    "import os\n",
    "import sys\n",
    "import numpy as np\n",
    "\n",
    "import matplotlib.pyplot as plt\n",
    "%matplotlib inline\n",
    "\n",
    "from skimage.transform import resize\n",
    "import os\n",
    "from os.path import join\n",
    "from sklearn.model_selection import train_test_split"
   ]
  },
  {
   "cell_type": "code",
   "execution_count": 2,
   "metadata": {},
   "outputs": [
    {
     "name": "stderr",
     "output_type": "stream",
     "text": [
      "C:\\ProgramData\\Anaconda3\\lib\\site-packages\\h5py\\__init__.py:36: FutureWarning: Conversion of the second argument of issubdtype from `float` to `np.floating` is deprecated. In future, it will be treated as `np.float64 == np.dtype(float).type`.\n",
      "  from ._conv import register_converters as _register_converters\n",
      "Using TensorFlow backend.\n"
     ]
    }
   ],
   "source": [
    "from keras.models import Sequential,Model\n",
    "from keras.layers.core import Dense, Dropout, Activation, Flatten, Reshape\n",
    "from keras.optimizers import SGD, RMSprop, Adam\n",
    "from keras.utils import np_utils\n",
    "from keras.regularizers import l2\n",
    "from keras.layers.convolutional import Convolution2D, MaxPooling2D, ZeroPadding2D, AveragePooling2D\n",
    "from keras.callbacks import EarlyStopping\n",
    "from keras.preprocessing.image import ImageDataGenerator\n",
    "from keras.layers.normalization import BatchNormalization\n",
    "from keras.utils import to_categorical"
   ]
  },
  {
   "cell_type": "code",
   "execution_count": 3,
   "metadata": {
    "collapsed": true
   },
   "outputs": [],
   "source": [
    "#(545, 535, 3) исходное\n",
    "# file_names = sorted(os.listdir('./data/all_ica_img/'))\n",
    "#IMG_SIZE = (197,197,3)\n",
    "#IMG_SIZE = (224,224,3)\n",
    "IMG_SIZE = (75,75,3)"
   ]
  },
  {
   "cell_type": "code",
   "execution_count": 4,
   "metadata": {
    "collapsed": true
   },
   "outputs": [],
   "source": [
    "path = './data/train_test/train/'\n",
    "file_names = sorted(os.listdir(path))\n",
    "X_train = [resize(cv2.imread(join(path, file_name))[25:570, 185:720], IMG_SIZE, mode='reflect')\n",
    "              for file_name in file_names]\n",
    "y_train = [file_name.split('.')[0].split('_')[-1] for file_name in file_names]\n",
    "\n",
    "X_train = np.array(X_train).astype(np.float32)\n",
    "y_train = np.array(y_train).astype(int)\n",
    "y_train = to_categorical(y_train)"
   ]
  },
  {
   "cell_type": "code",
   "execution_count": null,
   "metadata": {
    "collapsed": true
   },
   "outputs": [],
   "source": [
    "path = './data/train_test/test/'\n",
    "file_names = sorted(os.listdir(path))\n",
    "X_test = [resize(cv2.imread(join(path, file_name))[25:570, 185:720], IMG_SIZE, mode='reflect')\n",
    "              for file_name in file_names]\n",
    "y_test = [file_name.split('.')[0].split('_')[-1] for file_name in file_names]\n",
    "\n",
    "X_test = np.array(X_test).astype(np.float32)\n",
    "X_test = np.array(X_test).astype(int)\n",
    "y_test = to_categorical(y_test)"
   ]
  },
  {
   "cell_type": "code",
   "execution_count": 5,
   "metadata": {
    "collapsed": true
   },
   "outputs": [],
   "source": [
    "from keras.applications.xception import Xception"
   ]
  },
  {
   "cell_type": "code",
   "execution_count": 12,
   "metadata": {
    "collapsed": true
   },
   "outputs": [],
   "source": [
    "basemodel = Xception(include_top=False, input_shape=IMG_SIZE, pooling='avg')\n",
    "base_out = basemodel.output\n",
    "base_out = Dense(1024, activation='elu',\n",
    "                       kernel_initializer='glorot_normal',\n",
    "                       kernel_regularizer=l2(1e-3))(base_out)\n",
    "base_out = Dropout(0.5)(base_out)\n",
    "\n",
    "predictions = Dense(2, activation='softmax',\n",
    "                          kernel_initializer='glorot_normal',\n",
    "                          kernel_regularizer=l2(1e-3))(base_out)\n",
    "\n",
    "model = Model(inputs=basemodel.input, outputs=predictions)\n",
    "\n",
    "trainable_border = 107  # 141\n",
    "for layer in model.layers[:trainable_border]:\n",
    "        layer.trainable = False\n",
    "for layer in model.layers[trainable_border:]:\n",
    "        layer.trainable = True\n",
    "        \n",
    "model.compile(optimizer=Adam(lr=1e-3, decay=1e-2),\n",
    "                  loss='categorical_crossentropy',\n",
    "                  metrics=['accuracy'])        "
   ]
  },
  {
   "cell_type": "code",
   "execution_count": 13,
   "metadata": {},
   "outputs": [
    {
     "name": "stdout",
     "output_type": "stream",
     "text": [
      "Train on 10 samples, validate on 10 samples\n",
      "Epoch 1/10\n",
      "10/10 [==============================] - 4s 417ms/step - loss: 1.8558 - acc: 0.5000 - val_loss: 7.1067 - val_acc: 0.6000\n",
      "Epoch 2/10\n",
      "10/10 [==============================] - 0s 9ms/step - loss: 3.2275 - acc: 0.7000 - val_loss: 5.8153 - val_acc: 0.6000\n",
      "Epoch 3/10\n",
      "10/10 [==============================] - 0s 9ms/step - loss: 1.6049 - acc: 0.7000 - val_loss: 2.6257 - val_acc: 0.6000\n",
      "Epoch 4/10\n",
      "10/10 [==============================] - 0s 9ms/step - loss: 1.6013 - acc: 0.6000 - val_loss: 1.8063 - val_acc: 0.6000\n",
      "Epoch 5/10\n",
      "10/10 [==============================] - 0s 9ms/step - loss: 1.5470 - acc: 0.7000 - val_loss: 1.6305 - val_acc: 0.6000\n",
      "Epoch 6/10\n",
      "10/10 [==============================] - 0s 9ms/step - loss: 1.5125 - acc: 0.8000 - val_loss: 1.5754 - val_acc: 0.6000\n",
      "Epoch 7/10\n",
      "10/10 [==============================] - 0s 9ms/step - loss: 1.4841 - acc: 1.0000 - val_loss: 1.5496 - val_acc: 0.7000\n",
      "Epoch 8/10\n",
      "10/10 [==============================] - 0s 9ms/step - loss: 1.4399 - acc: 1.0000 - val_loss: 1.5343 - val_acc: 0.7000\n",
      "Epoch 9/10\n",
      "10/10 [==============================] - 0s 9ms/step - loss: 1.3855 - acc: 1.0000 - val_loss: 1.5222 - val_acc: 0.8000\n",
      "Epoch 10/10\n",
      "10/10 [==============================] - 0s 9ms/step - loss: 1.3276 - acc: 0.9000 - val_loss: 1.5111 - val_acc: 0.8000\n"
     ]
    }
   ],
   "source": [
    "history = model.fit(X_train[:10], y_train[:10], batch_size=10, epochs=10,\n",
    "          verbose=1, validation_data=(X_train[:10], y_train[:10]))"
   ]
  },
  {
   "cell_type": "code",
   "execution_count": null,
   "metadata": {
    "collapsed": true
   },
   "outputs": [],
   "source": []
  }
 ],
 "metadata": {
  "kernelspec": {
   "display_name": "Python 3",
   "language": "python",
   "name": "python3"
  },
  "language_info": {
   "codemirror_mode": {
    "name": "ipython",
    "version": 3
   },
   "file_extension": ".py",
   "mimetype": "text/x-python",
   "name": "python",
   "nbconvert_exporter": "python",
   "pygments_lexer": "ipython3",
   "version": "3.6.3"
  }
 },
 "nbformat": 4,
 "nbformat_minor": 2
}
